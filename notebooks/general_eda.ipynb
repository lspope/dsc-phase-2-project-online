{
 "metadata": {
  "language_info": {
   "codemirror_mode": {
    "name": "ipython",
    "version": 3
   },
   "file_extension": ".py",
   "mimetype": "text/x-python",
   "name": "python",
   "nbconvert_exporter": "python",
   "pygments_lexer": "ipython3",
   "version": "3.6.9-final"
  },
  "orig_nbformat": 2,
  "kernelspec": {
   "name": "Python 3.6.9 64-bit ('flatiron': conda)",
   "display_name": "Python 3.6.9 64-bit ('flatiron': conda)",
   "metadata": {
    "interpreter": {
     "hash": "4535bfad872b0023e1fa85bd7b3c83a64ea39ab51ed0133218ea0a816c02d554"
    }
   }
  }
 },
 "nbformat": 4,
 "nbformat_minor": 2,
 "cells": [
  {
   "cell_type": "markdown",
   "metadata": {},
   "source": [
    "## todo:\n",
    "* Add them here"
   ]
  },
  {
   "cell_type": "markdown",
   "metadata": {},
   "source": [
    "# General EDA\n",
    "EDA playround to start to find interesting things."
   ]
  },
  {
   "cell_type": "code",
   "execution_count": 3,
   "metadata": {},
   "outputs": [],
   "source": [
    "# Import the required libraries\n",
    "import pandas as pd\n",
    "import numpy as np\n",
    "\n",
    "# set up pandas to display floats in a more human friendly way\n",
    "pd.options.display.float_format = '{:,.2f}'.format"
   ]
  },
  {
   "cell_type": "code",
   "execution_count": 4,
   "metadata": {},
   "outputs": [
    {
     "output_type": "execute_result",
     "data": {
      "text/plain": "           id        date        price  bedrooms  bathrooms  sqft_living  \\\n0  7129300520  10/13/2014   221,900.00         3       1.00         1180   \n1  6414100192   12/9/2014   538,000.00         3       2.25         2570   \n2  5631500400   2/25/2015   180,000.00         2       1.00          770   \n3  2487200875   12/9/2014   604,000.00         4       3.00         1960   \n4  1954400510   2/18/2015   510,000.00         3       2.00         1680   \n5  7237550310   5/12/2014 1,230,000.00         4       4.50         5420   \n6  1321400060   6/27/2014   257,500.00         3       2.25         1715   \n7  2008000270   1/15/2015   291,850.00         3       1.50         1060   \n8  2414600126   4/15/2015   229,500.00         3       1.00         1780   \n9  3793500160   3/12/2015   323,000.00         3       2.50         1890   \n\n   sqft_lot  floors  waterfront  view  ...   lat    long  sqft_living15  \\\n0      5650    1.00        0.00  0.00  ... 47.51 -122.26           1340   \n1      7242    2.00        0.00  0.00  ... 47.72 -122.32           1690   \n2     10000    1.00        0.00  0.00  ... 47.74 -122.23           2720   \n3      5000    1.00        0.00  0.00  ... 47.52 -122.39           1360   \n4      8080    1.00        0.00  0.00  ... 47.62 -122.05           1800   \n5    101930    1.00        0.00  0.00  ... 47.66 -122.00           4760   \n6      6819    2.00        0.00  0.00  ... 47.31 -122.33           2238   \n7      9711    1.00        0.00  0.00  ... 47.41 -122.31           1650   \n8      7470    1.00        0.00  0.00  ... 47.51 -122.34           1780   \n9      6560    2.00        0.00  0.00  ... 47.37 -122.03           2390   \n\n   sqft_lot15  date_month  date_day  date_year  renovated_status  \\\n0        5650          10        13       2014               UNK   \n1        7639          12         9       2014                 Y   \n2        8062           2        25       2015               UNK   \n3        5000          12         9       2014               UNK   \n4        7503           2        18       2015               UNK   \n5      101930           5        12       2014               UNK   \n6        6819           6        27       2014               UNK   \n7        9711           1        15       2015               UNK   \n8        8113           4        15       2015               UNK   \n9        7570           3        12       2015               UNK   \n\n   sqft_living15_different  sqft_lot15_different  \n0                        Y                     N  \n1                        Y                     Y  \n2                        Y                     Y  \n3                        Y                     N  \n4                        Y                     Y  \n5                        Y                     N  \n6                        Y                     N  \n7                        Y                     N  \n8                        N                     Y  \n9                        Y                     Y  \n\n[10 rows x 27 columns]",
      "text/html": "<div>\n<style scoped>\n    .dataframe tbody tr th:only-of-type {\n        vertical-align: middle;\n    }\n\n    .dataframe tbody tr th {\n        vertical-align: top;\n    }\n\n    .dataframe thead th {\n        text-align: right;\n    }\n</style>\n<table border=\"1\" class=\"dataframe\">\n  <thead>\n    <tr style=\"text-align: right;\">\n      <th></th>\n      <th>id</th>\n      <th>date</th>\n      <th>price</th>\n      <th>bedrooms</th>\n      <th>bathrooms</th>\n      <th>sqft_living</th>\n      <th>sqft_lot</th>\n      <th>floors</th>\n      <th>waterfront</th>\n      <th>view</th>\n      <th>...</th>\n      <th>lat</th>\n      <th>long</th>\n      <th>sqft_living15</th>\n      <th>sqft_lot15</th>\n      <th>date_month</th>\n      <th>date_day</th>\n      <th>date_year</th>\n      <th>renovated_status</th>\n      <th>sqft_living15_different</th>\n      <th>sqft_lot15_different</th>\n    </tr>\n  </thead>\n  <tbody>\n    <tr>\n      <th>0</th>\n      <td>7129300520</td>\n      <td>10/13/2014</td>\n      <td>221,900.00</td>\n      <td>3</td>\n      <td>1.00</td>\n      <td>1180</td>\n      <td>5650</td>\n      <td>1.00</td>\n      <td>0.00</td>\n      <td>0.00</td>\n      <td>...</td>\n      <td>47.51</td>\n      <td>-122.26</td>\n      <td>1340</td>\n      <td>5650</td>\n      <td>10</td>\n      <td>13</td>\n      <td>2014</td>\n      <td>UNK</td>\n      <td>Y</td>\n      <td>N</td>\n    </tr>\n    <tr>\n      <th>1</th>\n      <td>6414100192</td>\n      <td>12/9/2014</td>\n      <td>538,000.00</td>\n      <td>3</td>\n      <td>2.25</td>\n      <td>2570</td>\n      <td>7242</td>\n      <td>2.00</td>\n      <td>0.00</td>\n      <td>0.00</td>\n      <td>...</td>\n      <td>47.72</td>\n      <td>-122.32</td>\n      <td>1690</td>\n      <td>7639</td>\n      <td>12</td>\n      <td>9</td>\n      <td>2014</td>\n      <td>Y</td>\n      <td>Y</td>\n      <td>Y</td>\n    </tr>\n    <tr>\n      <th>2</th>\n      <td>5631500400</td>\n      <td>2/25/2015</td>\n      <td>180,000.00</td>\n      <td>2</td>\n      <td>1.00</td>\n      <td>770</td>\n      <td>10000</td>\n      <td>1.00</td>\n      <td>0.00</td>\n      <td>0.00</td>\n      <td>...</td>\n      <td>47.74</td>\n      <td>-122.23</td>\n      <td>2720</td>\n      <td>8062</td>\n      <td>2</td>\n      <td>25</td>\n      <td>2015</td>\n      <td>UNK</td>\n      <td>Y</td>\n      <td>Y</td>\n    </tr>\n    <tr>\n      <th>3</th>\n      <td>2487200875</td>\n      <td>12/9/2014</td>\n      <td>604,000.00</td>\n      <td>4</td>\n      <td>3.00</td>\n      <td>1960</td>\n      <td>5000</td>\n      <td>1.00</td>\n      <td>0.00</td>\n      <td>0.00</td>\n      <td>...</td>\n      <td>47.52</td>\n      <td>-122.39</td>\n      <td>1360</td>\n      <td>5000</td>\n      <td>12</td>\n      <td>9</td>\n      <td>2014</td>\n      <td>UNK</td>\n      <td>Y</td>\n      <td>N</td>\n    </tr>\n    <tr>\n      <th>4</th>\n      <td>1954400510</td>\n      <td>2/18/2015</td>\n      <td>510,000.00</td>\n      <td>3</td>\n      <td>2.00</td>\n      <td>1680</td>\n      <td>8080</td>\n      <td>1.00</td>\n      <td>0.00</td>\n      <td>0.00</td>\n      <td>...</td>\n      <td>47.62</td>\n      <td>-122.05</td>\n      <td>1800</td>\n      <td>7503</td>\n      <td>2</td>\n      <td>18</td>\n      <td>2015</td>\n      <td>UNK</td>\n      <td>Y</td>\n      <td>Y</td>\n    </tr>\n    <tr>\n      <th>5</th>\n      <td>7237550310</td>\n      <td>5/12/2014</td>\n      <td>1,230,000.00</td>\n      <td>4</td>\n      <td>4.50</td>\n      <td>5420</td>\n      <td>101930</td>\n      <td>1.00</td>\n      <td>0.00</td>\n      <td>0.00</td>\n      <td>...</td>\n      <td>47.66</td>\n      <td>-122.00</td>\n      <td>4760</td>\n      <td>101930</td>\n      <td>5</td>\n      <td>12</td>\n      <td>2014</td>\n      <td>UNK</td>\n      <td>Y</td>\n      <td>N</td>\n    </tr>\n    <tr>\n      <th>6</th>\n      <td>1321400060</td>\n      <td>6/27/2014</td>\n      <td>257,500.00</td>\n      <td>3</td>\n      <td>2.25</td>\n      <td>1715</td>\n      <td>6819</td>\n      <td>2.00</td>\n      <td>0.00</td>\n      <td>0.00</td>\n      <td>...</td>\n      <td>47.31</td>\n      <td>-122.33</td>\n      <td>2238</td>\n      <td>6819</td>\n      <td>6</td>\n      <td>27</td>\n      <td>2014</td>\n      <td>UNK</td>\n      <td>Y</td>\n      <td>N</td>\n    </tr>\n    <tr>\n      <th>7</th>\n      <td>2008000270</td>\n      <td>1/15/2015</td>\n      <td>291,850.00</td>\n      <td>3</td>\n      <td>1.50</td>\n      <td>1060</td>\n      <td>9711</td>\n      <td>1.00</td>\n      <td>0.00</td>\n      <td>0.00</td>\n      <td>...</td>\n      <td>47.41</td>\n      <td>-122.31</td>\n      <td>1650</td>\n      <td>9711</td>\n      <td>1</td>\n      <td>15</td>\n      <td>2015</td>\n      <td>UNK</td>\n      <td>Y</td>\n      <td>N</td>\n    </tr>\n    <tr>\n      <th>8</th>\n      <td>2414600126</td>\n      <td>4/15/2015</td>\n      <td>229,500.00</td>\n      <td>3</td>\n      <td>1.00</td>\n      <td>1780</td>\n      <td>7470</td>\n      <td>1.00</td>\n      <td>0.00</td>\n      <td>0.00</td>\n      <td>...</td>\n      <td>47.51</td>\n      <td>-122.34</td>\n      <td>1780</td>\n      <td>8113</td>\n      <td>4</td>\n      <td>15</td>\n      <td>2015</td>\n      <td>UNK</td>\n      <td>N</td>\n      <td>Y</td>\n    </tr>\n    <tr>\n      <th>9</th>\n      <td>3793500160</td>\n      <td>3/12/2015</td>\n      <td>323,000.00</td>\n      <td>3</td>\n      <td>2.50</td>\n      <td>1890</td>\n      <td>6560</td>\n      <td>2.00</td>\n      <td>0.00</td>\n      <td>0.00</td>\n      <td>...</td>\n      <td>47.37</td>\n      <td>-122.03</td>\n      <td>2390</td>\n      <td>7570</td>\n      <td>3</td>\n      <td>12</td>\n      <td>2015</td>\n      <td>UNK</td>\n      <td>Y</td>\n      <td>Y</td>\n    </tr>\n  </tbody>\n</table>\n<p>10 rows × 27 columns</p>\n</div>"
     },
     "metadata": {},
     "execution_count": 4
    }
   ],
   "source": [
    "df = pd.read_csv('../data/proc_kc_house_data.csv')\n",
    "df.head(10)"
   ]
  },
  {
   "cell_type": "markdown",
   "metadata": {},
   "source": [
    "## Exploring potential renovations using the sqft_living15 and sqft_lot15 values\n"
   ]
  },
  {
   "cell_type": "code",
   "execution_count": 5,
   "metadata": {
    "tags": []
   },
   "outputs": [
    {
     "output_type": "stream",
     "name": "stdout",
     "text": "--- no difference between sqft and 2015 metrics ---\n(2563, 27)\n(4474, 27)\n----DIFF between sqft and 2015 metrics ---\n(19034, 27)\n(17123, 27)\n----renovated status UNK, N, Y---\n(17262, 27)\n(3591, 27)\n(744, 27)\n--- different sqft_living15 and UNK renovated_status------\n(15460, 27)\n----General shape ---\n(21597, 27)\n"
    }
   ],
   "source": [
    "print(\"--- no difference between sqft and 2015 metrics ---\")\n",
    "print(df[df['sqft_living15_different'] == 'N'].shape)\n",
    "print(df[df['sqft_lot15_different'] == 'N'].shape)\n",
    "print(\"----DIFF between sqft and 2015 metrics ---\")\n",
    "print(df[df['sqft_living15_different'] == 'Y'].shape)\n",
    "print(df[df['sqft_lot15_different'] == 'Y'].shape)\n",
    "print(\"----renovated status UNK, N, Y---\")\n",
    "print(df[df['renovated_status'] == 'UNK'].shape)\n",
    "print(df[df['renovated_status'] == 'N'].shape)\n",
    "print(df[df['renovated_status'] == 'Y'].shape)\n",
    "print('--- different sqft_living15 and UNK renovated_status------')\n",
    "print(df[(df['sqft_living15_different'] == 'Y') & (df['renovated_status']=='UNK')].shape)\n",
    "print(\"----General shape ---\")\n",
    "print(df.shape)"
   ]
  },
  {
   "cell_type": "markdown",
   "metadata": {},
   "source": [
    "# Framing questions from the POV of County government officals.  \n",
    "\n",
    "Residential property tax assessors, county/city planning that want to learn about economic factors/data related to Residential property. Here are examples;\n",
    "* Does my zip code price out residents? Ddoes the city/county need to work on making homes more affordable...are they already affordable?\n",
    "* are lots too small/overcrowding/stressing infrastucture?  Are there differences in lot size between zip codes?\n",
    "* are the homes good quality, newer, renovated if older. Are there differences between zip codes.\n",
    "* for tax purposes what percentage of homes are being renovated? What types of homes are being renovated? "
   ]
  },
  {
   "cell_type": "markdown",
   "metadata": {},
   "source": [
    "## General Questions\n",
    "### Are any homes listed twice in the dataset?\n",
    "I think only home sales in 2014 and 2015 are included so there might not be many homes that sold twice in that time frame.\n",
    "\n",
    "### "
   ]
  },
  {
   "cell_type": "markdown",
   "metadata": {},
   "source": [
    "## What percentage of homes in the county are renovated? Consider breaking down by zipcode, by year built, by homes with waterfront and/or nice views."
   ]
  },
  {
   "cell_type": "markdown",
   "metadata": {},
   "source": [
    "## Group by zipcode and look at the differences in 1)sales price 2)sqft_living 3) sqft_lot 4)yr_built  5)anything else interesting."
   ]
  },
  {
   "cell_type": "code",
   "execution_count": null,
   "metadata": {},
   "outputs": [],
   "source": []
  }
 ]
}