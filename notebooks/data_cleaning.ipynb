{
 "cells": [
  {
   "cell_type": "markdown",
   "metadata": {},
   "source": [
    "## todo:\n",
    "* * _Catagorical Dummy Encoding?__\n",
    "    * Anything here? Check for catagorical using unique\n"
   ]
  },
  {
   "cell_type": "markdown",
   "metadata": {},
   "source": [
    "# Data Cleaning Notebook\n"
   ]
  },
  {
   "cell_type": "code",
   "execution_count": 27,
   "metadata": {},
   "outputs": [],
   "source": [
    "# Import the required libraries\n",
    "import pandas as pd\n",
    "import numpy as np\n",
    "\n",
    "# set up pandas to display floats in a more human friendly way\n",
    "pd.options.display.float_format = '{:,.2f}'.format"
   ]
  },
  {
   "cell_type": "code",
   "execution_count": 28,
   "metadata": {},
   "outputs": [
    {
     "output_type": "execute_result",
     "data": {
      "text/plain": "           id        date        price  bedrooms  bathrooms  sqft_living  \\\n0  7129300520  10/13/2014   221,900.00         3       1.00         1180   \n1  6414100192   12/9/2014   538,000.00         3       2.25         2570   \n2  5631500400   2/25/2015   180,000.00         2       1.00          770   \n3  2487200875   12/9/2014   604,000.00         4       3.00         1960   \n4  1954400510   2/18/2015   510,000.00         3       2.00         1680   \n5  7237550310   5/12/2014 1,230,000.00         4       4.50         5420   \n6  1321400060   6/27/2014   257,500.00         3       2.25         1715   \n7  2008000270   1/15/2015   291,850.00         3       1.50         1060   \n8  2414600126   4/15/2015   229,500.00         3       1.00         1780   \n9  3793500160   3/12/2015   323,000.00         3       2.50         1890   \n\n   sqft_lot  floors  waterfront  view  ...  grade  sqft_above  sqft_basement  \\\n0      5650    1.00         nan  0.00  ...      7        1180            0.0   \n1      7242    2.00        0.00  0.00  ...      7        2170          400.0   \n2     10000    1.00        0.00  0.00  ...      6         770            0.0   \n3      5000    1.00        0.00  0.00  ...      7        1050          910.0   \n4      8080    1.00        0.00  0.00  ...      8        1680            0.0   \n5    101930    1.00        0.00  0.00  ...     11        3890         1530.0   \n6      6819    2.00        0.00  0.00  ...      7        1715              ?   \n7      9711    1.00        0.00   nan  ...      7        1060            0.0   \n8      7470    1.00        0.00  0.00  ...      7        1050          730.0   \n9      6560    2.00        0.00  0.00  ...      7        1890            0.0   \n\n  yr_built  yr_renovated  zipcode   lat    long  sqft_living15  sqft_lot15  \n0     1955          0.00    98178 47.51 -122.26           1340        5650  \n1     1951      1,991.00    98125 47.72 -122.32           1690        7639  \n2     1933           nan    98028 47.74 -122.23           2720        8062  \n3     1965          0.00    98136 47.52 -122.39           1360        5000  \n4     1987          0.00    98074 47.62 -122.05           1800        7503  \n5     2001          0.00    98053 47.66 -122.00           4760      101930  \n6     1995          0.00    98003 47.31 -122.33           2238        6819  \n7     1963          0.00    98198 47.41 -122.31           1650        9711  \n8     1960          0.00    98146 47.51 -122.34           1780        8113  \n9     2003          0.00    98038 47.37 -122.03           2390        7570  \n\n[10 rows x 21 columns]",
      "text/html": "<div>\n<style scoped>\n    .dataframe tbody tr th:only-of-type {\n        vertical-align: middle;\n    }\n\n    .dataframe tbody tr th {\n        vertical-align: top;\n    }\n\n    .dataframe thead th {\n        text-align: right;\n    }\n</style>\n<table border=\"1\" class=\"dataframe\">\n  <thead>\n    <tr style=\"text-align: right;\">\n      <th></th>\n      <th>id</th>\n      <th>date</th>\n      <th>price</th>\n      <th>bedrooms</th>\n      <th>bathrooms</th>\n      <th>sqft_living</th>\n      <th>sqft_lot</th>\n      <th>floors</th>\n      <th>waterfront</th>\n      <th>view</th>\n      <th>...</th>\n      <th>grade</th>\n      <th>sqft_above</th>\n      <th>sqft_basement</th>\n      <th>yr_built</th>\n      <th>yr_renovated</th>\n      <th>zipcode</th>\n      <th>lat</th>\n      <th>long</th>\n      <th>sqft_living15</th>\n      <th>sqft_lot15</th>\n    </tr>\n  </thead>\n  <tbody>\n    <tr>\n      <th>0</th>\n      <td>7129300520</td>\n      <td>10/13/2014</td>\n      <td>221,900.00</td>\n      <td>3</td>\n      <td>1.00</td>\n      <td>1180</td>\n      <td>5650</td>\n      <td>1.00</td>\n      <td>nan</td>\n      <td>0.00</td>\n      <td>...</td>\n      <td>7</td>\n      <td>1180</td>\n      <td>0.0</td>\n      <td>1955</td>\n      <td>0.00</td>\n      <td>98178</td>\n      <td>47.51</td>\n      <td>-122.26</td>\n      <td>1340</td>\n      <td>5650</td>\n    </tr>\n    <tr>\n      <th>1</th>\n      <td>6414100192</td>\n      <td>12/9/2014</td>\n      <td>538,000.00</td>\n      <td>3</td>\n      <td>2.25</td>\n      <td>2570</td>\n      <td>7242</td>\n      <td>2.00</td>\n      <td>0.00</td>\n      <td>0.00</td>\n      <td>...</td>\n      <td>7</td>\n      <td>2170</td>\n      <td>400.0</td>\n      <td>1951</td>\n      <td>1,991.00</td>\n      <td>98125</td>\n      <td>47.72</td>\n      <td>-122.32</td>\n      <td>1690</td>\n      <td>7639</td>\n    </tr>\n    <tr>\n      <th>2</th>\n      <td>5631500400</td>\n      <td>2/25/2015</td>\n      <td>180,000.00</td>\n      <td>2</td>\n      <td>1.00</td>\n      <td>770</td>\n      <td>10000</td>\n      <td>1.00</td>\n      <td>0.00</td>\n      <td>0.00</td>\n      <td>...</td>\n      <td>6</td>\n      <td>770</td>\n      <td>0.0</td>\n      <td>1933</td>\n      <td>nan</td>\n      <td>98028</td>\n      <td>47.74</td>\n      <td>-122.23</td>\n      <td>2720</td>\n      <td>8062</td>\n    </tr>\n    <tr>\n      <th>3</th>\n      <td>2487200875</td>\n      <td>12/9/2014</td>\n      <td>604,000.00</td>\n      <td>4</td>\n      <td>3.00</td>\n      <td>1960</td>\n      <td>5000</td>\n      <td>1.00</td>\n      <td>0.00</td>\n      <td>0.00</td>\n      <td>...</td>\n      <td>7</td>\n      <td>1050</td>\n      <td>910.0</td>\n      <td>1965</td>\n      <td>0.00</td>\n      <td>98136</td>\n      <td>47.52</td>\n      <td>-122.39</td>\n      <td>1360</td>\n      <td>5000</td>\n    </tr>\n    <tr>\n      <th>4</th>\n      <td>1954400510</td>\n      <td>2/18/2015</td>\n      <td>510,000.00</td>\n      <td>3</td>\n      <td>2.00</td>\n      <td>1680</td>\n      <td>8080</td>\n      <td>1.00</td>\n      <td>0.00</td>\n      <td>0.00</td>\n      <td>...</td>\n      <td>8</td>\n      <td>1680</td>\n      <td>0.0</td>\n      <td>1987</td>\n      <td>0.00</td>\n      <td>98074</td>\n      <td>47.62</td>\n      <td>-122.05</td>\n      <td>1800</td>\n      <td>7503</td>\n    </tr>\n    <tr>\n      <th>5</th>\n      <td>7237550310</td>\n      <td>5/12/2014</td>\n      <td>1,230,000.00</td>\n      <td>4</td>\n      <td>4.50</td>\n      <td>5420</td>\n      <td>101930</td>\n      <td>1.00</td>\n      <td>0.00</td>\n      <td>0.00</td>\n      <td>...</td>\n      <td>11</td>\n      <td>3890</td>\n      <td>1530.0</td>\n      <td>2001</td>\n      <td>0.00</td>\n      <td>98053</td>\n      <td>47.66</td>\n      <td>-122.00</td>\n      <td>4760</td>\n      <td>101930</td>\n    </tr>\n    <tr>\n      <th>6</th>\n      <td>1321400060</td>\n      <td>6/27/2014</td>\n      <td>257,500.00</td>\n      <td>3</td>\n      <td>2.25</td>\n      <td>1715</td>\n      <td>6819</td>\n      <td>2.00</td>\n      <td>0.00</td>\n      <td>0.00</td>\n      <td>...</td>\n      <td>7</td>\n      <td>1715</td>\n      <td>?</td>\n      <td>1995</td>\n      <td>0.00</td>\n      <td>98003</td>\n      <td>47.31</td>\n      <td>-122.33</td>\n      <td>2238</td>\n      <td>6819</td>\n    </tr>\n    <tr>\n      <th>7</th>\n      <td>2008000270</td>\n      <td>1/15/2015</td>\n      <td>291,850.00</td>\n      <td>3</td>\n      <td>1.50</td>\n      <td>1060</td>\n      <td>9711</td>\n      <td>1.00</td>\n      <td>0.00</td>\n      <td>nan</td>\n      <td>...</td>\n      <td>7</td>\n      <td>1060</td>\n      <td>0.0</td>\n      <td>1963</td>\n      <td>0.00</td>\n      <td>98198</td>\n      <td>47.41</td>\n      <td>-122.31</td>\n      <td>1650</td>\n      <td>9711</td>\n    </tr>\n    <tr>\n      <th>8</th>\n      <td>2414600126</td>\n      <td>4/15/2015</td>\n      <td>229,500.00</td>\n      <td>3</td>\n      <td>1.00</td>\n      <td>1780</td>\n      <td>7470</td>\n      <td>1.00</td>\n      <td>0.00</td>\n      <td>0.00</td>\n      <td>...</td>\n      <td>7</td>\n      <td>1050</td>\n      <td>730.0</td>\n      <td>1960</td>\n      <td>0.00</td>\n      <td>98146</td>\n      <td>47.51</td>\n      <td>-122.34</td>\n      <td>1780</td>\n      <td>8113</td>\n    </tr>\n    <tr>\n      <th>9</th>\n      <td>3793500160</td>\n      <td>3/12/2015</td>\n      <td>323,000.00</td>\n      <td>3</td>\n      <td>2.50</td>\n      <td>1890</td>\n      <td>6560</td>\n      <td>2.00</td>\n      <td>0.00</td>\n      <td>0.00</td>\n      <td>...</td>\n      <td>7</td>\n      <td>1890</td>\n      <td>0.0</td>\n      <td>2003</td>\n      <td>0.00</td>\n      <td>98038</td>\n      <td>47.37</td>\n      <td>-122.03</td>\n      <td>2390</td>\n      <td>7570</td>\n    </tr>\n  </tbody>\n</table>\n<p>10 rows × 21 columns</p>\n</div>"
     },
     "metadata": {},
     "execution_count": 28
    }
   ],
   "source": [
    "king_data_raw = pd.read_csv('../data/kc_house_data.csv')\n",
    "king_data_raw.head(10)"
   ]
  },
  {
   "cell_type": "code",
   "execution_count": 29,
   "metadata": {
    "tags": []
   },
   "outputs": [
    {
     "output_type": "stream",
     "name": "stdout",
     "text": "&lt;class &#39;pandas.core.frame.DataFrame&#39;&gt;\nRangeIndex: 21597 entries, 0 to 21596\nData columns (total 21 columns):\n #   Column         Non-Null Count  Dtype  \n---  ------         --------------  -----  \n 0   id             21597 non-null  int64  \n 1   date           21597 non-null  object \n 2   price          21597 non-null  float64\n 3   bedrooms       21597 non-null  int64  \n 4   bathrooms      21597 non-null  float64\n 5   sqft_living    21597 non-null  int64  \n 6   sqft_lot       21597 non-null  int64  \n 7   floors         21597 non-null  float64\n 8   waterfront     19221 non-null  float64\n 9   view           21534 non-null  float64\n 10  condition      21597 non-null  int64  \n 11  grade          21597 non-null  int64  \n 12  sqft_above     21597 non-null  int64  \n 13  sqft_basement  21597 non-null  object \n 14  yr_built       21597 non-null  int64  \n 15  yr_renovated   17755 non-null  float64\n 16  zipcode        21597 non-null  int64  \n 17  lat            21597 non-null  float64\n 18  long           21597 non-null  float64\n 19  sqft_living15  21597 non-null  int64  \n 20  sqft_lot15     21597 non-null  int64  \ndtypes: float64(8), int64(11), object(2)\nmemory usage: 3.5+ MB\n"
    }
   ],
   "source": [
    "king_data_raw.info()"
   ]
  },
  {
   "cell_type": "code",
   "execution_count": 30,
   "metadata": {},
   "outputs": [],
   "source": [
    "# Make a deep copy and do procesing on this dataframe moving forward\n",
    "# Deep copy has own copy of data and index.\n",
    "king_processed = king_data_raw.copy(deep=True)"
   ]
  },
  {
   "cell_type": "markdown",
   "metadata": {},
   "source": [
    "# Data Preparation\n",
    "\n",
    "## Data cleaning steps:\n",
    "* __Duplicate check__ \n",
    "    * no duplicates found\n",
    "* __Address nans__\n",
    "    * waterfront \n",
    "    * view\n",
    "    * yr_renovated \n",
    "* __Data type conversions__\n",
    "    * sqft_basement - convert from string to int\n",
    "    * yr_renovated - convert from float to int\n",
    "* __New column creation__\n",
    "    * date - split out the Month, Day, Year for potential feature use\n",
    "    * yr_renovated - create a new catagorical variable,renovated_status, based off logic detailed in section below.\n",
    "    * sqft_living, sqft_living15, sqft_lot and sqft_lot15 - create two new catagorical variables, sqft_living15_different and sqft_lot15_different. More details below on reason.\n",
    "* _Catagorical Dummy Encoding?__\n",
    "    * Anything here? Check for catagorical using unique\n"
   ]
  },
  {
   "cell_type": "markdown",
   "metadata": {},
   "source": [
    "## Duplicate check"
   ]
  },
  {
   "cell_type": "code",
   "execution_count": 31,
   "metadata": {
    "tags": []
   },
   "outputs": [
    {
     "output_type": "stream",
     "name": "stdout",
     "text": "0\n"
    }
   ],
   "source": [
    "# Duplicate check\n",
    "king_dups = king_data_raw[king_data_raw.duplicated()]\n",
    "print(len(king_dups))"
   ]
  },
  {
   "cell_type": "markdown",
   "metadata": {},
   "source": [
    "## Address nans"
   ]
  },
  {
   "cell_type": "code",
   "execution_count": 32,
   "metadata": {
    "tags": []
   },
   "outputs": [
    {
     "output_type": "stream",
     "name": "stdout",
     "text": "[nan  0.  1.]\n2376\n"
    }
   ],
   "source": [
    "# Address nans for waterfront column\n",
    "print(king_data_raw.waterfront.unique())\n",
    "print(king_data_raw['waterfront'].isna().sum())"
   ]
  },
  {
   "cell_type": "code",
   "execution_count": 33,
   "metadata": {
    "tags": []
   },
   "outputs": [
    {
     "output_type": "stream",
     "name": "stdout",
     "text": "0\n"
    }
   ],
   "source": [
    "# Assuming that, since waterfront property is desirable real estate, it would be marked as such. \n",
    "# Setting waterfront nan values to 0 \n",
    "king_processed['waterfront'].fillna(0.0, inplace=True)\n",
    "print(king_processed['waterfront'].isna().sum())"
   ]
  },
  {
   "cell_type": "code",
   "execution_count": 34,
   "metadata": {
    "tags": []
   },
   "outputs": [
    {
     "output_type": "stream",
     "name": "stdout",
     "text": "[ 0. nan  3.  4.  2.  1.]\n63\n"
    }
   ],
   "source": [
    "# Address nans for view column \n",
    "print(king_data_raw.view.unique())\n",
    "print(king_data_raw['view'].isna().sum())"
   ]
  },
  {
   "cell_type": "code",
   "execution_count": 35,
   "metadata": {
    "tags": []
   },
   "outputs": [
    {
     "output_type": "stream",
     "name": "stdout",
     "text": "0\n"
    }
   ],
   "source": [
    "# Assuming that, since having a high rated view attribute would indicate desirable real estate, a good view would be marked as such. \n",
    "# Setting view nan values to 0 \n",
    "king_processed['view'].fillna(0.0, inplace=True)\n",
    "print(king_processed['view'].isna().sum())"
   ]
  },
  {
   "cell_type": "code",
   "execution_count": 36,
   "metadata": {
    "tags": []
   },
   "outputs": [
    {
     "output_type": "stream",
     "name": "stdout",
     "text": "[   0. 1991.   nan 2002. 2010. 1992. 2013. 1994. 1978. 2005. 2003. 1984.\n 1954. 2014. 2011. 1983. 1945. 1990. 1988. 1977. 1981. 1995. 2000. 1999.\n 1998. 1970. 1989. 2004. 1986. 2007. 1987. 2006. 1985. 2001. 1980. 1971.\n 1979. 1997. 1950. 1969. 1948. 2009. 2015. 1974. 2008. 1968. 2012. 1963.\n 1951. 1962. 1953. 1993. 1996. 1955. 1982. 1956. 1940. 1976. 1946. 1975.\n 1964. 1973. 1957. 1959. 1960. 1967. 1965. 1934. 1972. 1944. 1958.]\n3842\n"
    }
   ],
   "source": [
    "# Address nans for yr_renovated column\n",
    "print(king_data_raw.yr_renovated.unique())\n",
    "print(king_data_raw['yr_renovated'].isna().sum())"
   ]
  },
  {
   "cell_type": "markdown",
   "metadata": {},
   "source": [
    "__yr_renovated__ column/feature feature needs some more thought applied to how to handle it. \n",
    "I'll start by setting the nans to 0.  \n",
    "I might need to add a renovated_status categorical variable.\n",
    "Here's my thoughts on some valid assumptions around renovated_status.\n",
    "* Recently constructed homes have probably not been renovated, so even if the __yr_renovated__ was nan/0, I will assume home wasn't renovated.\n",
    "* __Also worth noting__ that if there is a difference, I might need to use the \"2015\" columns/features instead of the \"original\" features.  Could do two different models/split out the data.\n",
    "\n",
    "\n"
   ]
  },
  {
   "cell_type": "code",
   "execution_count": 37,
   "metadata": {
    "tags": []
   },
   "outputs": [
    {
     "output_type": "stream",
     "name": "stdout",
     "text": "0\n"
    }
   ],
   "source": [
    "# Setting the nans to 0. Will perform other checks to set a new categorical variable, renovated_status, later on.\n",
    "king_processed['yr_renovated'].fillna(0, inplace=True)\n",
    "print(king_processed['yr_renovated'].isna().sum())"
   ]
  },
  {
   "cell_type": "markdown",
   "metadata": {},
   "source": [
    "## Data type conversions"
   ]
  },
  {
   "cell_type": "code",
   "execution_count": 38,
   "metadata": {},
   "outputs": [],
   "source": [
    "#no issues with simply changing yr_renovated to int64\n",
    "king_processed['yr_renovated'] = np.int64(king_processed['yr_renovated'])"
   ]
  },
  {
   "cell_type": "code",
   "execution_count": 39,
   "metadata": {
    "tags": []
   },
   "outputs": [
    {
     "output_type": "stream",
     "name": "stdout",
     "text": "could not convert ?, using 0\ncould not convert ?, using 0\ncould not convert ?, using 0\ncould not convert ?, using 0\ncould not convert ?, using 0\ncould not convert ?, using 0\ncould not convert ?, using 0\ncould not convert ?, using 0\ncould not convert ?, using 0\ncould not convert ?, using 0\ncould not convert ?, using 0\ncould not convert ?, using 0\ncould not convert ?, using 0\ncould not convert ?, using 0\ncould not convert ?, using 0\ncould not convert ?, using 0\ncould not convert ?, using 0\ncould not convert ?, using 0\ncould not convert ?, using 0\ncould not convert ?, using 0\ncould not convert ?, using 0\ncould not convert ?, using 0\ncould not convert ?, using 0\ncould not convert ?, using 0\ncould not convert ?, using 0\ncould not convert ?, using 0\ncould not convert ?, using 0\ncould not convert ?, using 0\ncould not convert ?, using 0\ncould not convert ?, using 0\ncould not convert ?, using 0\ncould not convert ?, using 0\ncould not convert ?, using 0\ncould not convert ?, using 0\ncould not convert ?, using 0\ncould not convert ?, using 0\ncould not convert ?, using 0\ncould not convert ?, using 0\ncould not convert ?, using 0\ncould not convert ?, using 0\ncould not convert ?, using 0\ncould not convert ?, using 0\ncould not convert ?, using 0\ncould not convert ?, using 0\ncould not convert ?, using 0\ncould not convert ?, using 0\ncould not convert ?, using 0\ncould not convert ?, using 0\ncould not convert ?, using 0\ncould not convert ?, using 0\ncould not convert ?, using 0\ncould not convert ?, using 0\ncould not convert ?, using 0\ncould not convert ?, using 0\ncould not convert ?, using 0\ncould not convert ?, using 0\ncould not convert ?, using 0\ncould not convert ?, using 0\ncould not convert ?, using 0\ncould not convert ?, using 0\ncould not convert ?, using 0\ncould not convert ?, using 0\ncould not convert ?, using 0\ncould not convert ?, using 0\ncould not convert ?, using 0\ncould not convert ?, using 0\ncould not convert ?, using 0\ncould not convert ?, using 0\ncould not convert ?, using 0\ncould not convert ?, using 0\ncould not convert ?, using 0\ncould not convert ?, using 0\ncould not convert ?, using 0\ncould not convert ?, using 0\ncould not convert ?, using 0\ncould not convert ?, using 0\ncould not convert ?, using 0\ncould not convert ?, using 0\ncould not convert ?, using 0\ncould not convert ?, using 0\ncould not convert ?, using 0\ncould not convert ?, using 0\ncould not convert ?, using 0\ncould not convert ?, using 0\ncould not convert ?, using 0\ncould not convert ?, using 0\ncould not convert ?, using 0\ncould not convert ?, using 0\ncould not convert ?, using 0\ncould not convert ?, using 0\ncould not convert ?, using 0\ncould not convert ?, using 0\ncould not convert ?, using 0\ncould not convert ?, using 0\ncould not convert ?, using 0\ncould not convert ?, using 0\ncould not convert ?, using 0\ncould not convert ?, using 0\ncould not convert ?, using 0\ncould not convert ?, using 0\ncould not convert ?, using 0\ncould not convert ?, using 0\ncould not convert ?, using 0\ncould not convert ?, using 0\ncould not convert ?, using 0\ncould not convert ?, using 0\ncould not convert ?, using 0\ncould not convert ?, using 0\ncould not convert ?, using 0\ncould not convert ?, using 0\ncould not convert ?, using 0\ncould not convert ?, using 0\ncould not convert ?, using 0\ncould not convert ?, using 0\ncould not convert ?, using 0\ncould not convert ?, using 0\ncould not convert ?, using 0\ncould not convert ?, using 0\ncould not convert ?, using 0\ncould not convert ?, using 0\ncould not convert ?, using 0\ncould not convert ?, using 0\ncould not convert ?, using 0\ncould not convert ?, using 0\ncould not convert ?, using 0\ncould not convert ?, using 0\ncould not convert ?, using 0\ncould not convert ?, using 0\ncould not convert ?, using 0\ncould not convert ?, using 0\ncould not convert ?, using 0\ncould not convert ?, using 0\ncould not convert ?, using 0\ncould not convert ?, using 0\ncould not convert ?, using 0\ncould not convert ?, using 0\ncould not convert ?, using 0\ncould not convert ?, using 0\ncould not convert ?, using 0\ncould not convert ?, using 0\ncould not convert ?, using 0\ncould not convert ?, using 0\ncould not convert ?, using 0\ncould not convert ?, using 0\ncould not convert ?, using 0\ncould not convert ?, using 0\ncould not convert ?, using 0\ncould not convert ?, using 0\ncould not convert ?, using 0\ncould not convert ?, using 0\ncould not convert ?, using 0\ncould not convert ?, using 0\ncould not convert ?, using 0\ncould not convert ?, using 0\ncould not convert ?, using 0\ncould not convert ?, using 0\ncould not convert ?, using 0\ncould not convert ?, using 0\ncould not convert ?, using 0\ncould not convert ?, using 0\ncould not convert ?, using 0\ncould not convert ?, using 0\ncould not convert ?, using 0\ncould not convert ?, using 0\ncould not convert ?, using 0\ncould not convert ?, using 0\ncould not convert ?, using 0\ncould not convert ?, using 0\ncould not convert ?, using 0\ncould not convert ?, using 0\ncould not convert ?, using 0\ncould not convert ?, using 0\ncould not convert ?, using 0\ncould not convert ?, using 0\ncould not convert ?, using 0\ncould not convert ?, using 0\ncould not convert ?, using 0\ncould not convert ?, using 0\ncould not convert ?, using 0\ncould not convert ?, using 0\ncould not convert ?, using 0\ncould not convert ?, using 0\ncould not convert ?, using 0\ncould not convert ?, using 0\ncould not convert ?, using 0\ncould not convert ?, using 0\ncould not convert ?, using 0\ncould not convert ?, using 0\ncould not convert ?, using 0\ncould not convert ?, using 0\ncould not convert ?, using 0\ncould not convert ?, using 0\ncould not convert ?, using 0\ncould not convert ?, using 0\ncould not convert ?, using 0\ncould not convert ?, using 0\ncould not convert ?, using 0\ncould not convert ?, using 0\ncould not convert ?, using 0\ncould not convert ?, using 0\ncould not convert ?, using 0\ncould not convert ?, using 0\ncould not convert ?, using 0\ncould not convert ?, using 0\ncould not convert ?, using 0\ncould not convert ?, using 0\ncould not convert ?, using 0\ncould not convert ?, using 0\ncould not convert ?, using 0\ncould not convert ?, using 0\ncould not convert ?, using 0\ncould not convert ?, using 0\ncould not convert ?, using 0\ncould not convert ?, using 0\ncould not convert ?, using 0\ncould not convert ?, using 0\ncould not convert ?, using 0\ncould not convert ?, using 0\ncould not convert ?, using 0\ncould not convert ?, using 0\ncould not convert ?, using 0\ncould not convert ?, using 0\ncould not convert ?, using 0\ncould not convert ?, using 0\ncould not convert ?, using 0\ncould not convert ?, using 0\ncould not convert ?, using 0\ncould not convert ?, using 0\ncould not convert ?, using 0\ncould not convert ?, using 0\ncould not convert ?, using 0\ncould not convert ?, using 0\ncould not convert ?, using 0\ncould not convert ?, using 0\ncould not convert ?, using 0\ncould not convert ?, using 0\ncould not convert ?, using 0\ncould not convert ?, using 0\ncould not convert ?, using 0\ncould not convert ?, using 0\ncould not convert ?, using 0\ncould not convert ?, using 0\ncould not convert ?, using 0\ncould not convert ?, using 0\ncould not convert ?, using 0\ncould not convert ?, using 0\ncould not convert ?, using 0\ncould not convert ?, using 0\ncould not convert ?, using 0\ncould not convert ?, using 0\ncould not convert ?, using 0\ncould not convert ?, using 0\ncould not convert ?, using 0\ncould not convert ?, using 0\ncould not convert ?, using 0\ncould not convert ?, using 0\ncould not convert ?, using 0\ncould not convert ?, using 0\ncould not convert ?, using 0\ncould not convert ?, using 0\ncould not convert ?, using 0\ncould not convert ?, using 0\ncould not convert ?, using 0\ncould not convert ?, using 0\ncould not convert ?, using 0\ncould not convert ?, using 0\ncould not convert ?, using 0\ncould not convert ?, using 0\ncould not convert ?, using 0\ncould not convert ?, using 0\ncould not convert ?, using 0\ncould not convert ?, using 0\ncould not convert ?, using 0\ncould not convert ?, using 0\ncould not convert ?, using 0\ncould not convert ?, using 0\ncould not convert ?, using 0\ncould not convert ?, using 0\ncould not convert ?, using 0\ncould not convert ?, using 0\ncould not convert ?, using 0\ncould not convert ?, using 0\ncould not convert ?, using 0\ncould not convert ?, using 0\ncould not convert ?, using 0\ncould not convert ?, using 0\ncould not convert ?, using 0\ncould not convert ?, using 0\ncould not convert ?, using 0\ncould not convert ?, using 0\ncould not convert ?, using 0\ncould not convert ?, using 0\ncould not convert ?, using 0\ncould not convert ?, using 0\ncould not convert ?, using 0\ncould not convert ?, using 0\ncould not convert ?, using 0\ncould not convert ?, using 0\ncould not convert ?, using 0\ncould not convert ?, using 0\ncould not convert ?, using 0\ncould not convert ?, using 0\ncould not convert ?, using 0\ncould not convert ?, using 0\ncould not convert ?, using 0\ncould not convert ?, using 0\ncould not convert ?, using 0\ncould not convert ?, using 0\ncould not convert ?, using 0\ncould not convert ?, using 0\ncould not convert ?, using 0\ncould not convert ?, using 0\ncould not convert ?, using 0\ncould not convert ?, using 0\ncould not convert ?, using 0\ncould not convert ?, using 0\ncould not convert ?, using 0\ncould not convert ?, using 0\ncould not convert ?, using 0\ncould not convert ?, using 0\ncould not convert ?, using 0\ncould not convert ?, using 0\ncould not convert ?, using 0\ncould not convert ?, using 0\ncould not convert ?, using 0\ncould not convert ?, using 0\ncould not convert ?, using 0\ncould not convert ?, using 0\ncould not convert ?, using 0\ncould not convert ?, using 0\ncould not convert ?, using 0\ncould not convert ?, using 0\ncould not convert ?, using 0\ncould not convert ?, using 0\ncould not convert ?, using 0\ncould not convert ?, using 0\ncould not convert ?, using 0\ncould not convert ?, using 0\ncould not convert ?, using 0\ncould not convert ?, using 0\ncould not convert ?, using 0\ncould not convert ?, using 0\ncould not convert ?, using 0\ncould not convert ?, using 0\ncould not convert ?, using 0\ncould not convert ?, using 0\ncould not convert ?, using 0\ncould not convert ?, using 0\ncould not convert ?, using 0\ncould not convert ?, using 0\ncould not convert ?, using 0\ncould not convert ?, using 0\ncould not convert ?, using 0\ncould not convert ?, using 0\ncould not convert ?, using 0\ncould not convert ?, using 0\ncould not convert ?, using 0\ncould not convert ?, using 0\ncould not convert ?, using 0\ncould not convert ?, using 0\ncould not convert ?, using 0\ncould not convert ?, using 0\ncould not convert ?, using 0\ncould not convert ?, using 0\ncould not convert ?, using 0\ncould not convert ?, using 0\ncould not convert ?, using 0\ncould not convert ?, using 0\ncould not convert ?, using 0\ncould not convert ?, using 0\ncould not convert ?, using 0\ncould not convert ?, using 0\ncould not convert ?, using 0\ncould not convert ?, using 0\ncould not convert ?, using 0\ncould not convert ?, using 0\ncould not convert ?, using 0\ncould not convert ?, using 0\ncould not convert ?, using 0\ncould not convert ?, using 0\ncould not convert ?, using 0\ncould not convert ?, using 0\ncould not convert ?, using 0\ncould not convert ?, using 0\ncould not convert ?, using 0\ncould not convert ?, using 0\ncould not convert ?, using 0\ncould not convert ?, using 0\ncould not convert ?, using 0\ncould not convert ?, using 0\ncould not convert ?, using 0\ncould not convert ?, using 0\ncould not convert ?, using 0\ncould not convert ?, using 0\ncould not convert ?, using 0\ncould not convert ?, using 0\ncould not convert ?, using 0\ncould not convert ?, using 0\ncould not convert ?, using 0\ncould not convert ?, using 0\ncould not convert ?, using 0\ncould not convert ?, using 0\ncould not convert ?, using 0\ncould not convert ?, using 0\ncould not convert ?, using 0\ncould not convert ?, using 0\ncould not convert ?, using 0\ncould not convert ?, using 0\ncould not convert ?, using 0\ncould not convert ?, using 0\ncould not convert ?, using 0\ncould not convert ?, using 0\ncould not convert ?, using 0\ncould not convert ?, using 0\ncould not convert ?, using 0\ncould not convert ?, using 0\ncould not convert ?, using 0\ncould not convert ?, using 0\ncould not convert ?, using 0\ncould not convert ?, using 0\ncould not convert ?, using 0\ncould not convert ?, using 0\ncould not convert ?, using 0\ncould not convert ?, using 0\ncould not convert ?, using 0\ncould not convert ?, using 0\ncould not convert ?, using 0\ncould not convert ?, using 0\ncould not convert ?, using 0\ncould not convert ?, using 0\ncould not convert ?, using 0\ncould not convert ?, using 0\ncould not convert ?, using 0\ncould not convert ?, using 0\ncould not convert ?, using 0\ncould not convert ?, using 0\ncould not convert ?, using 0\ncould not convert ?, using 0\ncould not convert ?, using 0\ncould not convert ?, using 0\ncould not convert ?, using 0\ncould not convert ?, using 0\ncould not convert ?, using 0\ncould not convert ?, using 0\ncould not convert ?, using 0\ncould not convert ?, using 0\ncould not convert ?, using 0\ncould not convert ?, using 0\ncould not convert ?, using 0\ncould not convert ?, using 0\ncould not convert ?, using 0\ncould not convert ?, using 0\ncould not convert ?, using 0\ncould not convert ?, using 0\n"
    }
   ],
   "source": [
    "# sqft_basement needed more wrangling \n",
    "# Was a String with either a non-numeric value (like ?) or a String representation of a float 400.00 with unneeded decimal places :/\n",
    "def convert_sqft_basement(some_string, default):\n",
    "    result = np.int64(default)\n",
    "    try:\n",
    "        result = np.int64(float(some_string))\n",
    "    except (ValueError, TypeError):\n",
    "        print(f'could not convert {some_string}, using {result}')\n",
    "    finally:\n",
    "        return result\n",
    "\n",
    "king_processed['sqft_basement'] = king_processed.apply(lambda row: convert_sqft_basement(row.sqft_basement, 0), axis=1)"
   ]
  },
  {
   "cell_type": "code",
   "execution_count": 40,
   "metadata": {
    "tags": []
   },
   "outputs": [
    {
     "output_type": "stream",
     "name": "stdout",
     "text": "id                 int64\ndate              object\nprice            float64\nbedrooms           int64\nbathrooms        float64\nsqft_living        int64\nsqft_lot           int64\nfloors           float64\nwaterfront       float64\nview             float64\ncondition          int64\ngrade              int64\nsqft_above         int64\nsqft_basement      int64\nyr_built           int64\nyr_renovated       int64\nzipcode            int64\nlat              float64\nlong             float64\nsqft_living15      int64\nsqft_lot15         int64\ndtype: object\n"
    },
    {
     "output_type": "execute_result",
     "data": {
      "text/plain": "           id        date        price  bedrooms  bathrooms  sqft_living  \\\n0  7129300520  10/13/2014   221,900.00         3       1.00         1180   \n1  6414100192   12/9/2014   538,000.00         3       2.25         2570   \n2  5631500400   2/25/2015   180,000.00         2       1.00          770   \n3  2487200875   12/9/2014   604,000.00         4       3.00         1960   \n4  1954400510   2/18/2015   510,000.00         3       2.00         1680   \n5  7237550310   5/12/2014 1,230,000.00         4       4.50         5420   \n6  1321400060   6/27/2014   257,500.00         3       2.25         1715   \n7  2008000270   1/15/2015   291,850.00         3       1.50         1060   \n8  2414600126   4/15/2015   229,500.00         3       1.00         1780   \n9  3793500160   3/12/2015   323,000.00         3       2.50         1890   \n\n   sqft_lot  floors  waterfront  view  ...  grade  sqft_above  sqft_basement  \\\n0      5650    1.00        0.00  0.00  ...      7        1180              0   \n1      7242    2.00        0.00  0.00  ...      7        2170            400   \n2     10000    1.00        0.00  0.00  ...      6         770              0   \n3      5000    1.00        0.00  0.00  ...      7        1050            910   \n4      8080    1.00        0.00  0.00  ...      8        1680              0   \n5    101930    1.00        0.00  0.00  ...     11        3890           1530   \n6      6819    2.00        0.00  0.00  ...      7        1715              0   \n7      9711    1.00        0.00  0.00  ...      7        1060              0   \n8      7470    1.00        0.00  0.00  ...      7        1050            730   \n9      6560    2.00        0.00  0.00  ...      7        1890              0   \n\n   yr_built  yr_renovated  zipcode   lat    long  sqft_living15  sqft_lot15  \n0      1955             0    98178 47.51 -122.26           1340        5650  \n1      1951          1991    98125 47.72 -122.32           1690        7639  \n2      1933             0    98028 47.74 -122.23           2720        8062  \n3      1965             0    98136 47.52 -122.39           1360        5000  \n4      1987             0    98074 47.62 -122.05           1800        7503  \n5      2001             0    98053 47.66 -122.00           4760      101930  \n6      1995             0    98003 47.31 -122.33           2238        6819  \n7      1963             0    98198 47.41 -122.31           1650        9711  \n8      1960             0    98146 47.51 -122.34           1780        8113  \n9      2003             0    98038 47.37 -122.03           2390        7570  \n\n[10 rows x 21 columns]",
      "text/html": "<div>\n<style scoped>\n    .dataframe tbody tr th:only-of-type {\n        vertical-align: middle;\n    }\n\n    .dataframe tbody tr th {\n        vertical-align: top;\n    }\n\n    .dataframe thead th {\n        text-align: right;\n    }\n</style>\n<table border=\"1\" class=\"dataframe\">\n  <thead>\n    <tr style=\"text-align: right;\">\n      <th></th>\n      <th>id</th>\n      <th>date</th>\n      <th>price</th>\n      <th>bedrooms</th>\n      <th>bathrooms</th>\n      <th>sqft_living</th>\n      <th>sqft_lot</th>\n      <th>floors</th>\n      <th>waterfront</th>\n      <th>view</th>\n      <th>...</th>\n      <th>grade</th>\n      <th>sqft_above</th>\n      <th>sqft_basement</th>\n      <th>yr_built</th>\n      <th>yr_renovated</th>\n      <th>zipcode</th>\n      <th>lat</th>\n      <th>long</th>\n      <th>sqft_living15</th>\n      <th>sqft_lot15</th>\n    </tr>\n  </thead>\n  <tbody>\n    <tr>\n      <th>0</th>\n      <td>7129300520</td>\n      <td>10/13/2014</td>\n      <td>221,900.00</td>\n      <td>3</td>\n      <td>1.00</td>\n      <td>1180</td>\n      <td>5650</td>\n      <td>1.00</td>\n      <td>0.00</td>\n      <td>0.00</td>\n      <td>...</td>\n      <td>7</td>\n      <td>1180</td>\n      <td>0</td>\n      <td>1955</td>\n      <td>0</td>\n      <td>98178</td>\n      <td>47.51</td>\n      <td>-122.26</td>\n      <td>1340</td>\n      <td>5650</td>\n    </tr>\n    <tr>\n      <th>1</th>\n      <td>6414100192</td>\n      <td>12/9/2014</td>\n      <td>538,000.00</td>\n      <td>3</td>\n      <td>2.25</td>\n      <td>2570</td>\n      <td>7242</td>\n      <td>2.00</td>\n      <td>0.00</td>\n      <td>0.00</td>\n      <td>...</td>\n      <td>7</td>\n      <td>2170</td>\n      <td>400</td>\n      <td>1951</td>\n      <td>1991</td>\n      <td>98125</td>\n      <td>47.72</td>\n      <td>-122.32</td>\n      <td>1690</td>\n      <td>7639</td>\n    </tr>\n    <tr>\n      <th>2</th>\n      <td>5631500400</td>\n      <td>2/25/2015</td>\n      <td>180,000.00</td>\n      <td>2</td>\n      <td>1.00</td>\n      <td>770</td>\n      <td>10000</td>\n      <td>1.00</td>\n      <td>0.00</td>\n      <td>0.00</td>\n      <td>...</td>\n      <td>6</td>\n      <td>770</td>\n      <td>0</td>\n      <td>1933</td>\n      <td>0</td>\n      <td>98028</td>\n      <td>47.74</td>\n      <td>-122.23</td>\n      <td>2720</td>\n      <td>8062</td>\n    </tr>\n    <tr>\n      <th>3</th>\n      <td>2487200875</td>\n      <td>12/9/2014</td>\n      <td>604,000.00</td>\n      <td>4</td>\n      <td>3.00</td>\n      <td>1960</td>\n      <td>5000</td>\n      <td>1.00</td>\n      <td>0.00</td>\n      <td>0.00</td>\n      <td>...</td>\n      <td>7</td>\n      <td>1050</td>\n      <td>910</td>\n      <td>1965</td>\n      <td>0</td>\n      <td>98136</td>\n      <td>47.52</td>\n      <td>-122.39</td>\n      <td>1360</td>\n      <td>5000</td>\n    </tr>\n    <tr>\n      <th>4</th>\n      <td>1954400510</td>\n      <td>2/18/2015</td>\n      <td>510,000.00</td>\n      <td>3</td>\n      <td>2.00</td>\n      <td>1680</td>\n      <td>8080</td>\n      <td>1.00</td>\n      <td>0.00</td>\n      <td>0.00</td>\n      <td>...</td>\n      <td>8</td>\n      <td>1680</td>\n      <td>0</td>\n      <td>1987</td>\n      <td>0</td>\n      <td>98074</td>\n      <td>47.62</td>\n      <td>-122.05</td>\n      <td>1800</td>\n      <td>7503</td>\n    </tr>\n    <tr>\n      <th>5</th>\n      <td>7237550310</td>\n      <td>5/12/2014</td>\n      <td>1,230,000.00</td>\n      <td>4</td>\n      <td>4.50</td>\n      <td>5420</td>\n      <td>101930</td>\n      <td>1.00</td>\n      <td>0.00</td>\n      <td>0.00</td>\n      <td>...</td>\n      <td>11</td>\n      <td>3890</td>\n      <td>1530</td>\n      <td>2001</td>\n      <td>0</td>\n      <td>98053</td>\n      <td>47.66</td>\n      <td>-122.00</td>\n      <td>4760</td>\n      <td>101930</td>\n    </tr>\n    <tr>\n      <th>6</th>\n      <td>1321400060</td>\n      <td>6/27/2014</td>\n      <td>257,500.00</td>\n      <td>3</td>\n      <td>2.25</td>\n      <td>1715</td>\n      <td>6819</td>\n      <td>2.00</td>\n      <td>0.00</td>\n      <td>0.00</td>\n      <td>...</td>\n      <td>7</td>\n      <td>1715</td>\n      <td>0</td>\n      <td>1995</td>\n      <td>0</td>\n      <td>98003</td>\n      <td>47.31</td>\n      <td>-122.33</td>\n      <td>2238</td>\n      <td>6819</td>\n    </tr>\n    <tr>\n      <th>7</th>\n      <td>2008000270</td>\n      <td>1/15/2015</td>\n      <td>291,850.00</td>\n      <td>3</td>\n      <td>1.50</td>\n      <td>1060</td>\n      <td>9711</td>\n      <td>1.00</td>\n      <td>0.00</td>\n      <td>0.00</td>\n      <td>...</td>\n      <td>7</td>\n      <td>1060</td>\n      <td>0</td>\n      <td>1963</td>\n      <td>0</td>\n      <td>98198</td>\n      <td>47.41</td>\n      <td>-122.31</td>\n      <td>1650</td>\n      <td>9711</td>\n    </tr>\n    <tr>\n      <th>8</th>\n      <td>2414600126</td>\n      <td>4/15/2015</td>\n      <td>229,500.00</td>\n      <td>3</td>\n      <td>1.00</td>\n      <td>1780</td>\n      <td>7470</td>\n      <td>1.00</td>\n      <td>0.00</td>\n      <td>0.00</td>\n      <td>...</td>\n      <td>7</td>\n      <td>1050</td>\n      <td>730</td>\n      <td>1960</td>\n      <td>0</td>\n      <td>98146</td>\n      <td>47.51</td>\n      <td>-122.34</td>\n      <td>1780</td>\n      <td>8113</td>\n    </tr>\n    <tr>\n      <th>9</th>\n      <td>3793500160</td>\n      <td>3/12/2015</td>\n      <td>323,000.00</td>\n      <td>3</td>\n      <td>2.50</td>\n      <td>1890</td>\n      <td>6560</td>\n      <td>2.00</td>\n      <td>0.00</td>\n      <td>0.00</td>\n      <td>...</td>\n      <td>7</td>\n      <td>1890</td>\n      <td>0</td>\n      <td>2003</td>\n      <td>0</td>\n      <td>98038</td>\n      <td>47.37</td>\n      <td>-122.03</td>\n      <td>2390</td>\n      <td>7570</td>\n    </tr>\n  </tbody>\n</table>\n<p>10 rows × 21 columns</p>\n</div>"
     },
     "metadata": {},
     "execution_count": 40
    }
   ],
   "source": [
    "print(king_processed.dtypes)\n",
    "king_processed.head(10)"
   ]
  },
  {
   "cell_type": "markdown",
   "metadata": {},
   "source": [
    "## New columns creation"
   ]
  },
  {
   "cell_type": "code",
   "execution_count": 41,
   "metadata": {},
   "outputs": [],
   "source": [
    "# The date column is not really useful. Pull out the month, day, year values from this date String column and save a new cols.\n",
    "def get_date_element(date_as_string, desired_index):\n",
    "    split_vals = date_as_string.split('/')\n",
    "    if len(split_vals) != 3:\n",
    "        split_vals = [0, 0, 0]\n",
    "    return np.int64(split_vals[desired_index])\n"
   ]
  },
  {
   "cell_type": "code",
   "execution_count": 42,
   "metadata": {},
   "outputs": [],
   "source": [
    "king_processed['date_month'] = king_processed.apply(lambda row: get_date_element(row.date, 0), axis=1)\n",
    "king_processed['date_day'] = king_processed.apply(lambda row: get_date_element(row.date, 1), axis=1)\n",
    "king_processed['date_year'] = king_processed.apply(lambda row: get_date_element(row.date, 2), axis=1)"
   ]
  },
  {
   "cell_type": "code",
   "execution_count": 43,
   "metadata": {
    "tags": []
   },
   "outputs": [],
   "source": [
    "# Make a categorical variable to reflect the renovated status. \n",
    "# Start by setting value Y if there is a valid yr_renovated year (>0) and UNK if it is 0\n",
    "king_processed['renovated_status'] = king_processed.apply(lambda row: 'Y' if row.yr_renovated > 0 else 'UNK', axis=1)\n"
   ]
  },
  {
   "cell_type": "code",
   "execution_count": 44,
   "metadata": {
    "tags": []
   },
   "outputs": [
    {
     "output_type": "stream",
     "name": "stdout",
     "text": "2003\n"
    }
   ],
   "source": [
    "# Where the yr_renovated is provided, what is the most recent yr_built?\n",
    "print(king_processed[(king_processed['yr_renovated']>0)].yr_built.max())"
   ]
  },
  {
   "cell_type": "markdown",
   "metadata": {},
   "source": [
    "For the set of homes with a valid __yr_renovated__, the most recent yr_built was 2003.  I will assume that any home build after 2003 with __yr_renovated__ of 0 was __not renovated__ and update the __renovated_status__ from 'UNK' to 'N'. "
   ]
  },
  {
   "cell_type": "code",
   "execution_count": 45,
   "metadata": {
    "tags": []
   },
   "outputs": [
    {
     "output_type": "stream",
     "name": "stdout",
     "text": "(20853, 25)\n(0, 25)\n"
    }
   ],
   "source": [
    "print(king_processed[king_processed['renovated_status'] == 'UNK'].shape)\n",
    "print(king_processed[king_processed['renovated_status'] == 'N'].shape)"
   ]
  },
  {
   "cell_type": "code",
   "execution_count": 46,
   "metadata": {},
   "outputs": [
    {
     "output_type": "execute_result",
     "data": {
      "text/plain": "           id        date      price  bedrooms  bathrooms  sqft_living  \\\n0  7129300520  10/13/2014 221,900.00         3       1.00         1180   \n1  6414100192   12/9/2014 538,000.00         3       2.25         2570   \n2  5631500400   2/25/2015 180,000.00         2       1.00          770   \n3  2487200875   12/9/2014 604,000.00         4       3.00         1960   \n4  1954400510   2/18/2015 510,000.00         3       2.00         1680   \n\n   sqft_lot  floors  waterfront  view  ...  yr_renovated  zipcode   lat  \\\n0      5650    1.00        0.00  0.00  ...             0    98178 47.51   \n1      7242    2.00        0.00  0.00  ...          1991    98125 47.72   \n2     10000    1.00        0.00  0.00  ...             0    98028 47.74   \n3      5000    1.00        0.00  0.00  ...             0    98136 47.52   \n4      8080    1.00        0.00  0.00  ...             0    98074 47.62   \n\n     long  sqft_living15  sqft_lot15  date_month  date_day  date_year  \\\n0 -122.26           1340        5650          10        13       2014   \n1 -122.32           1690        7639          12         9       2014   \n2 -122.23           2720        8062           2        25       2015   \n3 -122.39           1360        5000          12         9       2014   \n4 -122.05           1800        7503           2        18       2015   \n\n   renovated_status  \n0               UNK  \n1                 Y  \n2               UNK  \n3               UNK  \n4               UNK  \n\n[5 rows x 25 columns]",
      "text/html": "<div>\n<style scoped>\n    .dataframe tbody tr th:only-of-type {\n        vertical-align: middle;\n    }\n\n    .dataframe tbody tr th {\n        vertical-align: top;\n    }\n\n    .dataframe thead th {\n        text-align: right;\n    }\n</style>\n<table border=\"1\" class=\"dataframe\">\n  <thead>\n    <tr style=\"text-align: right;\">\n      <th></th>\n      <th>id</th>\n      <th>date</th>\n      <th>price</th>\n      <th>bedrooms</th>\n      <th>bathrooms</th>\n      <th>sqft_living</th>\n      <th>sqft_lot</th>\n      <th>floors</th>\n      <th>waterfront</th>\n      <th>view</th>\n      <th>...</th>\n      <th>yr_renovated</th>\n      <th>zipcode</th>\n      <th>lat</th>\n      <th>long</th>\n      <th>sqft_living15</th>\n      <th>sqft_lot15</th>\n      <th>date_month</th>\n      <th>date_day</th>\n      <th>date_year</th>\n      <th>renovated_status</th>\n    </tr>\n  </thead>\n  <tbody>\n    <tr>\n      <th>0</th>\n      <td>7129300520</td>\n      <td>10/13/2014</td>\n      <td>221,900.00</td>\n      <td>3</td>\n      <td>1.00</td>\n      <td>1180</td>\n      <td>5650</td>\n      <td>1.00</td>\n      <td>0.00</td>\n      <td>0.00</td>\n      <td>...</td>\n      <td>0</td>\n      <td>98178</td>\n      <td>47.51</td>\n      <td>-122.26</td>\n      <td>1340</td>\n      <td>5650</td>\n      <td>10</td>\n      <td>13</td>\n      <td>2014</td>\n      <td>UNK</td>\n    </tr>\n    <tr>\n      <th>1</th>\n      <td>6414100192</td>\n      <td>12/9/2014</td>\n      <td>538,000.00</td>\n      <td>3</td>\n      <td>2.25</td>\n      <td>2570</td>\n      <td>7242</td>\n      <td>2.00</td>\n      <td>0.00</td>\n      <td>0.00</td>\n      <td>...</td>\n      <td>1991</td>\n      <td>98125</td>\n      <td>47.72</td>\n      <td>-122.32</td>\n      <td>1690</td>\n      <td>7639</td>\n      <td>12</td>\n      <td>9</td>\n      <td>2014</td>\n      <td>Y</td>\n    </tr>\n    <tr>\n      <th>2</th>\n      <td>5631500400</td>\n      <td>2/25/2015</td>\n      <td>180,000.00</td>\n      <td>2</td>\n      <td>1.00</td>\n      <td>770</td>\n      <td>10000</td>\n      <td>1.00</td>\n      <td>0.00</td>\n      <td>0.00</td>\n      <td>...</td>\n      <td>0</td>\n      <td>98028</td>\n      <td>47.74</td>\n      <td>-122.23</td>\n      <td>2720</td>\n      <td>8062</td>\n      <td>2</td>\n      <td>25</td>\n      <td>2015</td>\n      <td>UNK</td>\n    </tr>\n    <tr>\n      <th>3</th>\n      <td>2487200875</td>\n      <td>12/9/2014</td>\n      <td>604,000.00</td>\n      <td>4</td>\n      <td>3.00</td>\n      <td>1960</td>\n      <td>5000</td>\n      <td>1.00</td>\n      <td>0.00</td>\n      <td>0.00</td>\n      <td>...</td>\n      <td>0</td>\n      <td>98136</td>\n      <td>47.52</td>\n      <td>-122.39</td>\n      <td>1360</td>\n      <td>5000</td>\n      <td>12</td>\n      <td>9</td>\n      <td>2014</td>\n      <td>UNK</td>\n    </tr>\n    <tr>\n      <th>4</th>\n      <td>1954400510</td>\n      <td>2/18/2015</td>\n      <td>510,000.00</td>\n      <td>3</td>\n      <td>2.00</td>\n      <td>1680</td>\n      <td>8080</td>\n      <td>1.00</td>\n      <td>0.00</td>\n      <td>0.00</td>\n      <td>...</td>\n      <td>0</td>\n      <td>98074</td>\n      <td>47.62</td>\n      <td>-122.05</td>\n      <td>1800</td>\n      <td>7503</td>\n      <td>2</td>\n      <td>18</td>\n      <td>2015</td>\n      <td>UNK</td>\n    </tr>\n  </tbody>\n</table>\n<p>5 rows × 25 columns</p>\n</div>"
     },
     "metadata": {},
     "execution_count": 46
    }
   ],
   "source": [
    "def check_for_recent_homes(yr_renovated, yr_built):\n",
    "    return (yr_renovated == 0 and yr_built > 2003)\n",
    "\n",
    "king_processed['renovated_status'] = king_processed.apply(lambda row: 'N' if check_for_recent_homes(row.yr_renovated, row.yr_built) else row.renovated_status, axis=1)\n",
    "king_processed.head()"
   ]
  },
  {
   "cell_type": "code",
   "execution_count": 47,
   "metadata": {
    "tags": []
   },
   "outputs": [
    {
     "output_type": "stream",
     "name": "stdout",
     "text": "(17262, 25)\n(3591, 25)\n"
    }
   ],
   "source": [
    "print(king_processed[king_processed['renovated_status'] == 'UNK'].shape)\n",
    "print(king_processed[king_processed['renovated_status'] == 'N'].shape)"
   ]
  },
  {
   "cell_type": "markdown",
   "metadata": {},
   "source": [
    "From the data description, the _15 columns contain avg sqft from 15 nearest neighbors (living area and lot size). This would indicate if a house was smaller/similar/larger than its neighbors. \n",
    "* sqft_living15 - the average house square footage of the 15 closest houses\n",
    "* sqft_lot15 - the average lot square footage of the 15 closest houses\n",
    "\n",
    "Creating create new columns to capture differences between the sqft_living and sqft_lot and their corresponding neighbors values\n"
   ]
  },
  {
   "cell_type": "code",
   "execution_count": 55,
   "metadata": {},
   "outputs": [],
   "source": [
    "king_processed['sqft_living15_diff'] = king_processed.apply(lambda row: row.sqft_living - row.sqft_living15, axis=1)\n",
    "king_processed['sqft_lot15_diff'] = king_processed.apply(lambda row: row.sqft_lot - row.sqft_lot15, axis=1)"
   ]
  },
  {
   "cell_type": "code",
   "execution_count": 56,
   "metadata": {},
   "outputs": [
    {
     "output_type": "execute_result",
     "data": {
      "text/plain": "           id        date        price  bedrooms  bathrooms  sqft_living  \\\n0  7129300520  10/13/2014   221,900.00         3       1.00         1180   \n1  6414100192   12/9/2014   538,000.00         3       2.25         2570   \n2  5631500400   2/25/2015   180,000.00         2       1.00          770   \n3  2487200875   12/9/2014   604,000.00         4       3.00         1960   \n4  1954400510   2/18/2015   510,000.00         3       2.00         1680   \n5  7237550310   5/12/2014 1,230,000.00         4       4.50         5420   \n6  1321400060   6/27/2014   257,500.00         3       2.25         1715   \n7  2008000270   1/15/2015   291,850.00         3       1.50         1060   \n8  2414600126   4/15/2015   229,500.00         3       1.00         1780   \n9  3793500160   3/12/2015   323,000.00         3       2.50         1890   \n\n   sqft_lot  floors  waterfront  view  ...  sqft_living15  sqft_lot15  \\\n0      5650    1.00        0.00  0.00  ...           1340        5650   \n1      7242    2.00        0.00  0.00  ...           1690        7639   \n2     10000    1.00        0.00  0.00  ...           2720        8062   \n3      5000    1.00        0.00  0.00  ...           1360        5000   \n4      8080    1.00        0.00  0.00  ...           1800        7503   \n5    101930    1.00        0.00  0.00  ...           4760      101930   \n6      6819    2.00        0.00  0.00  ...           2238        6819   \n7      9711    1.00        0.00  0.00  ...           1650        9711   \n8      7470    1.00        0.00  0.00  ...           1780        8113   \n9      6560    2.00        0.00  0.00  ...           2390        7570   \n\n   date_month  date_day  date_year  renovated_status  sqft_living15_diff  \\\n0          10        13       2014               UNK                -160   \n1          12         9       2014                 Y                 880   \n2           2        25       2015               UNK               -1950   \n3          12         9       2014               UNK                 600   \n4           2        18       2015               UNK                -120   \n5           5        12       2014               UNK                 660   \n6           6        27       2014               UNK                -523   \n7           1        15       2015               UNK                -590   \n8           4        15       2015               UNK                   0   \n9           3        12       2015               UNK                -500   \n\n   sqft_lot15_diff  sqft_living15_different  sqft_lot15_different  \n0                0                        Y                     N  \n1             -397                        Y                     Y  \n2             1938                        Y                     Y  \n3                0                        Y                     N  \n4              577                        Y                     Y  \n5                0                        Y                     N  \n6                0                        Y                     N  \n7                0                        Y                     N  \n8             -643                        N                     Y  \n9            -1010                        Y                     Y  \n\n[10 rows x 29 columns]",
      "text/html": "<div>\n<style scoped>\n    .dataframe tbody tr th:only-of-type {\n        vertical-align: middle;\n    }\n\n    .dataframe tbody tr th {\n        vertical-align: top;\n    }\n\n    .dataframe thead th {\n        text-align: right;\n    }\n</style>\n<table border=\"1\" class=\"dataframe\">\n  <thead>\n    <tr style=\"text-align: right;\">\n      <th></th>\n      <th>id</th>\n      <th>date</th>\n      <th>price</th>\n      <th>bedrooms</th>\n      <th>bathrooms</th>\n      <th>sqft_living</th>\n      <th>sqft_lot</th>\n      <th>floors</th>\n      <th>waterfront</th>\n      <th>view</th>\n      <th>...</th>\n      <th>sqft_living15</th>\n      <th>sqft_lot15</th>\n      <th>date_month</th>\n      <th>date_day</th>\n      <th>date_year</th>\n      <th>renovated_status</th>\n      <th>sqft_living15_diff</th>\n      <th>sqft_lot15_diff</th>\n      <th>sqft_living15_different</th>\n      <th>sqft_lot15_different</th>\n    </tr>\n  </thead>\n  <tbody>\n    <tr>\n      <th>0</th>\n      <td>7129300520</td>\n      <td>10/13/2014</td>\n      <td>221,900.00</td>\n      <td>3</td>\n      <td>1.00</td>\n      <td>1180</td>\n      <td>5650</td>\n      <td>1.00</td>\n      <td>0.00</td>\n      <td>0.00</td>\n      <td>...</td>\n      <td>1340</td>\n      <td>5650</td>\n      <td>10</td>\n      <td>13</td>\n      <td>2014</td>\n      <td>UNK</td>\n      <td>-160</td>\n      <td>0</td>\n      <td>Y</td>\n      <td>N</td>\n    </tr>\n    <tr>\n      <th>1</th>\n      <td>6414100192</td>\n      <td>12/9/2014</td>\n      <td>538,000.00</td>\n      <td>3</td>\n      <td>2.25</td>\n      <td>2570</td>\n      <td>7242</td>\n      <td>2.00</td>\n      <td>0.00</td>\n      <td>0.00</td>\n      <td>...</td>\n      <td>1690</td>\n      <td>7639</td>\n      <td>12</td>\n      <td>9</td>\n      <td>2014</td>\n      <td>Y</td>\n      <td>880</td>\n      <td>-397</td>\n      <td>Y</td>\n      <td>Y</td>\n    </tr>\n    <tr>\n      <th>2</th>\n      <td>5631500400</td>\n      <td>2/25/2015</td>\n      <td>180,000.00</td>\n      <td>2</td>\n      <td>1.00</td>\n      <td>770</td>\n      <td>10000</td>\n      <td>1.00</td>\n      <td>0.00</td>\n      <td>0.00</td>\n      <td>...</td>\n      <td>2720</td>\n      <td>8062</td>\n      <td>2</td>\n      <td>25</td>\n      <td>2015</td>\n      <td>UNK</td>\n      <td>-1950</td>\n      <td>1938</td>\n      <td>Y</td>\n      <td>Y</td>\n    </tr>\n    <tr>\n      <th>3</th>\n      <td>2487200875</td>\n      <td>12/9/2014</td>\n      <td>604,000.00</td>\n      <td>4</td>\n      <td>3.00</td>\n      <td>1960</td>\n      <td>5000</td>\n      <td>1.00</td>\n      <td>0.00</td>\n      <td>0.00</td>\n      <td>...</td>\n      <td>1360</td>\n      <td>5000</td>\n      <td>12</td>\n      <td>9</td>\n      <td>2014</td>\n      <td>UNK</td>\n      <td>600</td>\n      <td>0</td>\n      <td>Y</td>\n      <td>N</td>\n    </tr>\n    <tr>\n      <th>4</th>\n      <td>1954400510</td>\n      <td>2/18/2015</td>\n      <td>510,000.00</td>\n      <td>3</td>\n      <td>2.00</td>\n      <td>1680</td>\n      <td>8080</td>\n      <td>1.00</td>\n      <td>0.00</td>\n      <td>0.00</td>\n      <td>...</td>\n      <td>1800</td>\n      <td>7503</td>\n      <td>2</td>\n      <td>18</td>\n      <td>2015</td>\n      <td>UNK</td>\n      <td>-120</td>\n      <td>577</td>\n      <td>Y</td>\n      <td>Y</td>\n    </tr>\n    <tr>\n      <th>5</th>\n      <td>7237550310</td>\n      <td>5/12/2014</td>\n      <td>1,230,000.00</td>\n      <td>4</td>\n      <td>4.50</td>\n      <td>5420</td>\n      <td>101930</td>\n      <td>1.00</td>\n      <td>0.00</td>\n      <td>0.00</td>\n      <td>...</td>\n      <td>4760</td>\n      <td>101930</td>\n      <td>5</td>\n      <td>12</td>\n      <td>2014</td>\n      <td>UNK</td>\n      <td>660</td>\n      <td>0</td>\n      <td>Y</td>\n      <td>N</td>\n    </tr>\n    <tr>\n      <th>6</th>\n      <td>1321400060</td>\n      <td>6/27/2014</td>\n      <td>257,500.00</td>\n      <td>3</td>\n      <td>2.25</td>\n      <td>1715</td>\n      <td>6819</td>\n      <td>2.00</td>\n      <td>0.00</td>\n      <td>0.00</td>\n      <td>...</td>\n      <td>2238</td>\n      <td>6819</td>\n      <td>6</td>\n      <td>27</td>\n      <td>2014</td>\n      <td>UNK</td>\n      <td>-523</td>\n      <td>0</td>\n      <td>Y</td>\n      <td>N</td>\n    </tr>\n    <tr>\n      <th>7</th>\n      <td>2008000270</td>\n      <td>1/15/2015</td>\n      <td>291,850.00</td>\n      <td>3</td>\n      <td>1.50</td>\n      <td>1060</td>\n      <td>9711</td>\n      <td>1.00</td>\n      <td>0.00</td>\n      <td>0.00</td>\n      <td>...</td>\n      <td>1650</td>\n      <td>9711</td>\n      <td>1</td>\n      <td>15</td>\n      <td>2015</td>\n      <td>UNK</td>\n      <td>-590</td>\n      <td>0</td>\n      <td>Y</td>\n      <td>N</td>\n    </tr>\n    <tr>\n      <th>8</th>\n      <td>2414600126</td>\n      <td>4/15/2015</td>\n      <td>229,500.00</td>\n      <td>3</td>\n      <td>1.00</td>\n      <td>1780</td>\n      <td>7470</td>\n      <td>1.00</td>\n      <td>0.00</td>\n      <td>0.00</td>\n      <td>...</td>\n      <td>1780</td>\n      <td>8113</td>\n      <td>4</td>\n      <td>15</td>\n      <td>2015</td>\n      <td>UNK</td>\n      <td>0</td>\n      <td>-643</td>\n      <td>N</td>\n      <td>Y</td>\n    </tr>\n    <tr>\n      <th>9</th>\n      <td>3793500160</td>\n      <td>3/12/2015</td>\n      <td>323,000.00</td>\n      <td>3</td>\n      <td>2.50</td>\n      <td>1890</td>\n      <td>6560</td>\n      <td>2.00</td>\n      <td>0.00</td>\n      <td>0.00</td>\n      <td>...</td>\n      <td>2390</td>\n      <td>7570</td>\n      <td>3</td>\n      <td>12</td>\n      <td>2015</td>\n      <td>UNK</td>\n      <td>-500</td>\n      <td>-1010</td>\n      <td>Y</td>\n      <td>Y</td>\n    </tr>\n  </tbody>\n</table>\n<p>10 rows × 29 columns</p>\n</div>"
     },
     "metadata": {},
     "execution_count": 56
    }
   ],
   "source": [
    "king_processed.head(10)"
   ]
  },
  {
   "cell_type": "markdown",
   "metadata": {},
   "source": [
    "## Save processed data to file\n"
   ]
  },
  {
   "cell_type": "code",
   "execution_count": 26,
   "metadata": {},
   "outputs": [],
   "source": [
    "# save the processed data to file\n",
    "king_processed.to_csv('../data/proc_kc_house_data.csv', index=False)"
   ]
  },
  {
   "cell_type": "code",
   "execution_count": null,
   "metadata": {},
   "outputs": [],
   "source": []
  }
 ],
 "metadata": {
  "kernelspec": {
   "name": "Python 3.6.9 64-bit ('flatiron': conda)",
   "display_name": "Python 3.6.9 64-bit ('flatiron': conda)",
   "metadata": {
    "interpreter": {
     "hash": "4535bfad872b0023e1fa85bd7b3c83a64ea39ab51ed0133218ea0a816c02d554"
    }
   }
  },
  "language_info": {
   "codemirror_mode": {
    "name": "ipython",
    "version": 3
   },
   "file_extension": ".py",
   "mimetype": "text/x-python",
   "name": "python",
   "nbconvert_exporter": "python",
   "pygments_lexer": "ipython3",
   "version": "3.6.9-final"
  }
 },
 "nbformat": 4,
 "nbformat_minor": 2
}