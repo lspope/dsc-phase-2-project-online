{
 "metadata": {
  "language_info": {
   "codemirror_mode": {
    "name": "ipython",
    "version": 3
   },
   "file_extension": ".py",
   "mimetype": "text/x-python",
   "name": "python",
   "nbconvert_exporter": "python",
   "pygments_lexer": "ipython3",
   "version": "3.6.9-final"
  },
  "orig_nbformat": 2,
  "kernelspec": {
   "name": "Python 3.6.9 64-bit ('flatiron': conda)",
   "display_name": "Python 3.6.9 64-bit ('flatiron': conda)",
   "metadata": {
    "interpreter": {
     "hash": "4535bfad872b0023e1fa85bd7b3c83a64ea39ab51ed0133218ea0a816c02d554"
    }
   }
  }
 },
 "nbformat": 4,
 "nbformat_minor": 2,
 "cells": [
  {
   "cell_type": "markdown",
   "metadata": {},
   "source": [
    "## todo:\n",
    "* Add them here"
   ]
  },
  {
   "cell_type": "markdown",
   "metadata": {},
   "source": [
    "# General EDA\n",
    "EDA playround to start to find interesting things."
   ]
  },
  {
   "cell_type": "code",
   "execution_count": 6,
   "metadata": {},
   "outputs": [],
   "source": [
    "# Import the required libraries\n",
    "import pandas as pd\n",
    "import numpy as np\n",
    "\n",
    "# set up pandas to display floats in a more human friendly way\n",
    "pd.options.display.float_format = '{:,.2f}'.format"
   ]
  },
  {
   "cell_type": "code",
   "execution_count": 7,
   "metadata": {},
   "outputs": [
    {
     "output_type": "execute_result",
     "data": {
      "text/plain": "           id        date        price  bedrooms  bathrooms  sqft_living  \\\n0  7129300520  10/13/2014   221,900.00         3       1.00         1180   \n1  6414100192   12/9/2014   538,000.00         3       2.25         2570   \n2  5631500400   2/25/2015   180,000.00         2       1.00          770   \n3  2487200875   12/9/2014   604,000.00         4       3.00         1960   \n4  1954400510   2/18/2015   510,000.00         3       2.00         1680   \n5  7237550310   5/12/2014 1,230,000.00         4       4.50         5420   \n6  1321400060   6/27/2014   257,500.00         3       2.25         1715   \n7  2008000270   1/15/2015   291,850.00         3       1.50         1060   \n8  2414600126   4/15/2015   229,500.00         3       1.00         1780   \n9  3793500160   3/12/2015   323,000.00         3       2.50         1890   \n\n   sqft_lot  floors  waterfront  view  ...   lat    long  sqft_living15  \\\n0      5650    1.00        0.00  0.00  ... 47.51 -122.26           1340   \n1      7242    2.00        0.00  0.00  ... 47.72 -122.32           1690   \n2     10000    1.00        0.00  0.00  ... 47.74 -122.23           2720   \n3      5000    1.00        0.00  0.00  ... 47.52 -122.39           1360   \n4      8080    1.00        0.00  0.00  ... 47.62 -122.05           1800   \n5    101930    1.00        0.00  0.00  ... 47.66 -122.00           4760   \n6      6819    2.00        0.00  0.00  ... 47.31 -122.33           2238   \n7      9711    1.00        0.00  0.00  ... 47.41 -122.31           1650   \n8      7470    1.00        0.00  0.00  ... 47.51 -122.34           1780   \n9      6560    2.00        0.00  0.00  ... 47.37 -122.03           2390   \n\n   sqft_lot15  date_month  date_day  date_year  renovated_status  \\\n0        5650          10        13       2014               UNK   \n1        7639          12         9       2014                 Y   \n2        8062           2        25       2015               UNK   \n3        5000          12         9       2014               UNK   \n4        7503           2        18       2015               UNK   \n5      101930           5        12       2014               UNK   \n6        6819           6        27       2014               UNK   \n7        9711           1        15       2015               UNK   \n8        8113           4        15       2015               UNK   \n9        7570           3        12       2015               UNK   \n\n   sqft_living15_diff  sqft_lot15_diff  \n0                -160                0  \n1                 880             -397  \n2               -1950             1938  \n3                 600                0  \n4                -120              577  \n5                 660                0  \n6                -523                0  \n7                -590                0  \n8                   0             -643  \n9                -500            -1010  \n\n[10 rows x 27 columns]",
      "text/html": "<div>\n<style scoped>\n    .dataframe tbody tr th:only-of-type {\n        vertical-align: middle;\n    }\n\n    .dataframe tbody tr th {\n        vertical-align: top;\n    }\n\n    .dataframe thead th {\n        text-align: right;\n    }\n</style>\n<table border=\"1\" class=\"dataframe\">\n  <thead>\n    <tr style=\"text-align: right;\">\n      <th></th>\n      <th>id</th>\n      <th>date</th>\n      <th>price</th>\n      <th>bedrooms</th>\n      <th>bathrooms</th>\n      <th>sqft_living</th>\n      <th>sqft_lot</th>\n      <th>floors</th>\n      <th>waterfront</th>\n      <th>view</th>\n      <th>...</th>\n      <th>lat</th>\n      <th>long</th>\n      <th>sqft_living15</th>\n      <th>sqft_lot15</th>\n      <th>date_month</th>\n      <th>date_day</th>\n      <th>date_year</th>\n      <th>renovated_status</th>\n      <th>sqft_living15_diff</th>\n      <th>sqft_lot15_diff</th>\n    </tr>\n  </thead>\n  <tbody>\n    <tr>\n      <th>0</th>\n      <td>7129300520</td>\n      <td>10/13/2014</td>\n      <td>221,900.00</td>\n      <td>3</td>\n      <td>1.00</td>\n      <td>1180</td>\n      <td>5650</td>\n      <td>1.00</td>\n      <td>0.00</td>\n      <td>0.00</td>\n      <td>...</td>\n      <td>47.51</td>\n      <td>-122.26</td>\n      <td>1340</td>\n      <td>5650</td>\n      <td>10</td>\n      <td>13</td>\n      <td>2014</td>\n      <td>UNK</td>\n      <td>-160</td>\n      <td>0</td>\n    </tr>\n    <tr>\n      <th>1</th>\n      <td>6414100192</td>\n      <td>12/9/2014</td>\n      <td>538,000.00</td>\n      <td>3</td>\n      <td>2.25</td>\n      <td>2570</td>\n      <td>7242</td>\n      <td>2.00</td>\n      <td>0.00</td>\n      <td>0.00</td>\n      <td>...</td>\n      <td>47.72</td>\n      <td>-122.32</td>\n      <td>1690</td>\n      <td>7639</td>\n      <td>12</td>\n      <td>9</td>\n      <td>2014</td>\n      <td>Y</td>\n      <td>880</td>\n      <td>-397</td>\n    </tr>\n    <tr>\n      <th>2</th>\n      <td>5631500400</td>\n      <td>2/25/2015</td>\n      <td>180,000.00</td>\n      <td>2</td>\n      <td>1.00</td>\n      <td>770</td>\n      <td>10000</td>\n      <td>1.00</td>\n      <td>0.00</td>\n      <td>0.00</td>\n      <td>...</td>\n      <td>47.74</td>\n      <td>-122.23</td>\n      <td>2720</td>\n      <td>8062</td>\n      <td>2</td>\n      <td>25</td>\n      <td>2015</td>\n      <td>UNK</td>\n      <td>-1950</td>\n      <td>1938</td>\n    </tr>\n    <tr>\n      <th>3</th>\n      <td>2487200875</td>\n      <td>12/9/2014</td>\n      <td>604,000.00</td>\n      <td>4</td>\n      <td>3.00</td>\n      <td>1960</td>\n      <td>5000</td>\n      <td>1.00</td>\n      <td>0.00</td>\n      <td>0.00</td>\n      <td>...</td>\n      <td>47.52</td>\n      <td>-122.39</td>\n      <td>1360</td>\n      <td>5000</td>\n      <td>12</td>\n      <td>9</td>\n      <td>2014</td>\n      <td>UNK</td>\n      <td>600</td>\n      <td>0</td>\n    </tr>\n    <tr>\n      <th>4</th>\n      <td>1954400510</td>\n      <td>2/18/2015</td>\n      <td>510,000.00</td>\n      <td>3</td>\n      <td>2.00</td>\n      <td>1680</td>\n      <td>8080</td>\n      <td>1.00</td>\n      <td>0.00</td>\n      <td>0.00</td>\n      <td>...</td>\n      <td>47.62</td>\n      <td>-122.05</td>\n      <td>1800</td>\n      <td>7503</td>\n      <td>2</td>\n      <td>18</td>\n      <td>2015</td>\n      <td>UNK</td>\n      <td>-120</td>\n      <td>577</td>\n    </tr>\n    <tr>\n      <th>5</th>\n      <td>7237550310</td>\n      <td>5/12/2014</td>\n      <td>1,230,000.00</td>\n      <td>4</td>\n      <td>4.50</td>\n      <td>5420</td>\n      <td>101930</td>\n      <td>1.00</td>\n      <td>0.00</td>\n      <td>0.00</td>\n      <td>...</td>\n      <td>47.66</td>\n      <td>-122.00</td>\n      <td>4760</td>\n      <td>101930</td>\n      <td>5</td>\n      <td>12</td>\n      <td>2014</td>\n      <td>UNK</td>\n      <td>660</td>\n      <td>0</td>\n    </tr>\n    <tr>\n      <th>6</th>\n      <td>1321400060</td>\n      <td>6/27/2014</td>\n      <td>257,500.00</td>\n      <td>3</td>\n      <td>2.25</td>\n      <td>1715</td>\n      <td>6819</td>\n      <td>2.00</td>\n      <td>0.00</td>\n      <td>0.00</td>\n      <td>...</td>\n      <td>47.31</td>\n      <td>-122.33</td>\n      <td>2238</td>\n      <td>6819</td>\n      <td>6</td>\n      <td>27</td>\n      <td>2014</td>\n      <td>UNK</td>\n      <td>-523</td>\n      <td>0</td>\n    </tr>\n    <tr>\n      <th>7</th>\n      <td>2008000270</td>\n      <td>1/15/2015</td>\n      <td>291,850.00</td>\n      <td>3</td>\n      <td>1.50</td>\n      <td>1060</td>\n      <td>9711</td>\n      <td>1.00</td>\n      <td>0.00</td>\n      <td>0.00</td>\n      <td>...</td>\n      <td>47.41</td>\n      <td>-122.31</td>\n      <td>1650</td>\n      <td>9711</td>\n      <td>1</td>\n      <td>15</td>\n      <td>2015</td>\n      <td>UNK</td>\n      <td>-590</td>\n      <td>0</td>\n    </tr>\n    <tr>\n      <th>8</th>\n      <td>2414600126</td>\n      <td>4/15/2015</td>\n      <td>229,500.00</td>\n      <td>3</td>\n      <td>1.00</td>\n      <td>1780</td>\n      <td>7470</td>\n      <td>1.00</td>\n      <td>0.00</td>\n      <td>0.00</td>\n      <td>...</td>\n      <td>47.51</td>\n      <td>-122.34</td>\n      <td>1780</td>\n      <td>8113</td>\n      <td>4</td>\n      <td>15</td>\n      <td>2015</td>\n      <td>UNK</td>\n      <td>0</td>\n      <td>-643</td>\n    </tr>\n    <tr>\n      <th>9</th>\n      <td>3793500160</td>\n      <td>3/12/2015</td>\n      <td>323,000.00</td>\n      <td>3</td>\n      <td>2.50</td>\n      <td>1890</td>\n      <td>6560</td>\n      <td>2.00</td>\n      <td>0.00</td>\n      <td>0.00</td>\n      <td>...</td>\n      <td>47.37</td>\n      <td>-122.03</td>\n      <td>2390</td>\n      <td>7570</td>\n      <td>3</td>\n      <td>12</td>\n      <td>2015</td>\n      <td>UNK</td>\n      <td>-500</td>\n      <td>-1010</td>\n    </tr>\n  </tbody>\n</table>\n<p>10 rows × 27 columns</p>\n</div>"
     },
     "metadata": {},
     "execution_count": 7
    }
   ],
   "source": [
    "df = pd.read_csv('../data/proc_kc_house_data.csv')\n",
    "df.head(10)"
   ]
  },
  {
   "cell_type": "markdown",
   "metadata": {},
   "source": [
    "# Do basic data investigation\n",
    "* Describe the data - mean, median, min, max\n",
    "* Look for outliers"
   ]
  },
  {
   "cell_type": "code",
   "execution_count": 11,
   "metadata": {},
   "outputs": [
    {
     "output_type": "execute_result",
     "data": {
      "text/plain": "                    id        price  bedrooms  bathrooms  sqft_living  \\\ncount        21,597.00    21,597.00 21,597.00  21,597.00    21,597.00   \nmean  4,580,474,287.77   540,296.57      3.37       2.12     2,080.32   \nstd   2,876,735,715.75   367,368.14      0.93       0.77       918.11   \nmin       1,000,102.00    78,000.00      1.00       0.50       370.00   \n25%   2,123,049,175.00   322,000.00      3.00       1.75     1,430.00   \n50%   3,904,930,410.00   450,000.00      3.00       2.25     1,910.00   \n75%   7,308,900,490.00   645,000.00      4.00       2.50     2,550.00   \nmax   9,900,000,190.00 7,700,000.00     33.00       8.00    13,540.00   \n\n          sqft_lot    floors  waterfront      view  condition  ...   zipcode  \\\ncount    21,597.00 21,597.00   21,597.00 21,597.00  21,597.00  ... 21,597.00   \nmean     15,099.41      1.49        0.01      0.23       3.41  ... 98,077.95   \nstd      41,412.64      0.54        0.08      0.76       0.65  ...     53.51   \nmin         520.00      1.00        0.00      0.00       1.00  ... 98,001.00   \n25%       5,040.00      1.00        0.00      0.00       3.00  ... 98,033.00   \n50%       7,618.00      1.50        0.00      0.00       3.00  ... 98,065.00   \n75%      10,685.00      2.00        0.00      0.00       4.00  ... 98,118.00   \nmax   1,651,359.00      3.50        1.00      4.00       5.00  ... 98,199.00   \n\n            lat      long  sqft_living15  sqft_lot15  date_month  date_day  \\\ncount 21,597.00 21,597.00      21,597.00   21,597.00   21,597.00 21,597.00   \nmean      47.56   -122.21       1,986.62   12,758.28        6.57     15.69   \nstd        0.14      0.14         685.23   27,274.44        3.12      8.63   \nmin       47.16   -122.52         399.00      651.00        1.00      1.00   \n25%       47.47   -122.33       1,490.00    5,100.00        4.00      8.00   \n50%       47.57   -122.23       1,840.00    7,620.00        6.00     16.00   \n75%       47.68   -122.12       2,360.00   10,083.00        9.00     23.00   \nmax       47.78   -121.31       6,210.00  871,200.00       12.00     31.00   \n\n       date_year  sqft_living15_diff  sqft_lot15_diff  \ncount  21,597.00           21,597.00        21,597.00  \nmean    2,014.32               93.70         2,341.13  \nstd         0.47              600.61        28,921.78  \nmin     2,014.00           -2,310.00      -326,879.00  \n25%     2,014.00             -220.00          -421.00  \n50%     2,014.00                0.00             0.00  \n75%     2,015.00              310.00           680.00  \nmax     2,015.00            8,690.00     1,225,778.00  \n\n[8 rows x 25 columns]",
      "text/html": "<div>\n<style scoped>\n    .dataframe tbody tr th:only-of-type {\n        vertical-align: middle;\n    }\n\n    .dataframe tbody tr th {\n        vertical-align: top;\n    }\n\n    .dataframe thead th {\n        text-align: right;\n    }\n</style>\n<table border=\"1\" class=\"dataframe\">\n  <thead>\n    <tr style=\"text-align: right;\">\n      <th></th>\n      <th>id</th>\n      <th>price</th>\n      <th>bedrooms</th>\n      <th>bathrooms</th>\n      <th>sqft_living</th>\n      <th>sqft_lot</th>\n      <th>floors</th>\n      <th>waterfront</th>\n      <th>view</th>\n      <th>condition</th>\n      <th>...</th>\n      <th>zipcode</th>\n      <th>lat</th>\n      <th>long</th>\n      <th>sqft_living15</th>\n      <th>sqft_lot15</th>\n      <th>date_month</th>\n      <th>date_day</th>\n      <th>date_year</th>\n      <th>sqft_living15_diff</th>\n      <th>sqft_lot15_diff</th>\n    </tr>\n  </thead>\n  <tbody>\n    <tr>\n      <th>count</th>\n      <td>21,597.00</td>\n      <td>21,597.00</td>\n      <td>21,597.00</td>\n      <td>21,597.00</td>\n      <td>21,597.00</td>\n      <td>21,597.00</td>\n      <td>21,597.00</td>\n      <td>21,597.00</td>\n      <td>21,597.00</td>\n      <td>21,597.00</td>\n      <td>...</td>\n      <td>21,597.00</td>\n      <td>21,597.00</td>\n      <td>21,597.00</td>\n      <td>21,597.00</td>\n      <td>21,597.00</td>\n      <td>21,597.00</td>\n      <td>21,597.00</td>\n      <td>21,597.00</td>\n      <td>21,597.00</td>\n      <td>21,597.00</td>\n    </tr>\n    <tr>\n      <th>mean</th>\n      <td>4,580,474,287.77</td>\n      <td>540,296.57</td>\n      <td>3.37</td>\n      <td>2.12</td>\n      <td>2,080.32</td>\n      <td>15,099.41</td>\n      <td>1.49</td>\n      <td>0.01</td>\n      <td>0.23</td>\n      <td>3.41</td>\n      <td>...</td>\n      <td>98,077.95</td>\n      <td>47.56</td>\n      <td>-122.21</td>\n      <td>1,986.62</td>\n      <td>12,758.28</td>\n      <td>6.57</td>\n      <td>15.69</td>\n      <td>2,014.32</td>\n      <td>93.70</td>\n      <td>2,341.13</td>\n    </tr>\n    <tr>\n      <th>std</th>\n      <td>2,876,735,715.75</td>\n      <td>367,368.14</td>\n      <td>0.93</td>\n      <td>0.77</td>\n      <td>918.11</td>\n      <td>41,412.64</td>\n      <td>0.54</td>\n      <td>0.08</td>\n      <td>0.76</td>\n      <td>0.65</td>\n      <td>...</td>\n      <td>53.51</td>\n      <td>0.14</td>\n      <td>0.14</td>\n      <td>685.23</td>\n      <td>27,274.44</td>\n      <td>3.12</td>\n      <td>8.63</td>\n      <td>0.47</td>\n      <td>600.61</td>\n      <td>28,921.78</td>\n    </tr>\n    <tr>\n      <th>min</th>\n      <td>1,000,102.00</td>\n      <td>78,000.00</td>\n      <td>1.00</td>\n      <td>0.50</td>\n      <td>370.00</td>\n      <td>520.00</td>\n      <td>1.00</td>\n      <td>0.00</td>\n      <td>0.00</td>\n      <td>1.00</td>\n      <td>...</td>\n      <td>98,001.00</td>\n      <td>47.16</td>\n      <td>-122.52</td>\n      <td>399.00</td>\n      <td>651.00</td>\n      <td>1.00</td>\n      <td>1.00</td>\n      <td>2,014.00</td>\n      <td>-2,310.00</td>\n      <td>-326,879.00</td>\n    </tr>\n    <tr>\n      <th>25%</th>\n      <td>2,123,049,175.00</td>\n      <td>322,000.00</td>\n      <td>3.00</td>\n      <td>1.75</td>\n      <td>1,430.00</td>\n      <td>5,040.00</td>\n      <td>1.00</td>\n      <td>0.00</td>\n      <td>0.00</td>\n      <td>3.00</td>\n      <td>...</td>\n      <td>98,033.00</td>\n      <td>47.47</td>\n      <td>-122.33</td>\n      <td>1,490.00</td>\n      <td>5,100.00</td>\n      <td>4.00</td>\n      <td>8.00</td>\n      <td>2,014.00</td>\n      <td>-220.00</td>\n      <td>-421.00</td>\n    </tr>\n    <tr>\n      <th>50%</th>\n      <td>3,904,930,410.00</td>\n      <td>450,000.00</td>\n      <td>3.00</td>\n      <td>2.25</td>\n      <td>1,910.00</td>\n      <td>7,618.00</td>\n      <td>1.50</td>\n      <td>0.00</td>\n      <td>0.00</td>\n      <td>3.00</td>\n      <td>...</td>\n      <td>98,065.00</td>\n      <td>47.57</td>\n      <td>-122.23</td>\n      <td>1,840.00</td>\n      <td>7,620.00</td>\n      <td>6.00</td>\n      <td>16.00</td>\n      <td>2,014.00</td>\n      <td>0.00</td>\n      <td>0.00</td>\n    </tr>\n    <tr>\n      <th>75%</th>\n      <td>7,308,900,490.00</td>\n      <td>645,000.00</td>\n      <td>4.00</td>\n      <td>2.50</td>\n      <td>2,550.00</td>\n      <td>10,685.00</td>\n      <td>2.00</td>\n      <td>0.00</td>\n      <td>0.00</td>\n      <td>4.00</td>\n      <td>...</td>\n      <td>98,118.00</td>\n      <td>47.68</td>\n      <td>-122.12</td>\n      <td>2,360.00</td>\n      <td>10,083.00</td>\n      <td>9.00</td>\n      <td>23.00</td>\n      <td>2,015.00</td>\n      <td>310.00</td>\n      <td>680.00</td>\n    </tr>\n    <tr>\n      <th>max</th>\n      <td>9,900,000,190.00</td>\n      <td>7,700,000.00</td>\n      <td>33.00</td>\n      <td>8.00</td>\n      <td>13,540.00</td>\n      <td>1,651,359.00</td>\n      <td>3.50</td>\n      <td>1.00</td>\n      <td>4.00</td>\n      <td>5.00</td>\n      <td>...</td>\n      <td>98,199.00</td>\n      <td>47.78</td>\n      <td>-121.31</td>\n      <td>6,210.00</td>\n      <td>871,200.00</td>\n      <td>12.00</td>\n      <td>31.00</td>\n      <td>2,015.00</td>\n      <td>8,690.00</td>\n      <td>1,225,778.00</td>\n    </tr>\n  </tbody>\n</table>\n<p>8 rows × 25 columns</p>\n</div>"
     },
     "metadata": {},
     "execution_count": 11
    }
   ],
   "source": [
    "df.describe()"
   ]
  },
  {
   "cell_type": "code",
   "execution_count": null,
   "metadata": {},
   "outputs": [],
   "source": []
  },
  {
   "cell_type": "markdown",
   "metadata": {},
   "source": [
    "# Framing questions from the POV of County government officals.  \n",
    "\n",
    "Residential property tax assessors, county/city planning that want to learn about economic factors/data related to Residential property. Here are examples;\n",
    "* Does my zip code price out residents? Ddoes the city/county need to work on making homes more affordable...are they already affordable?\n",
    "* are lots too small/overcrowding/stressing infrastucture?  Are there differences in lot size between zip codes?\n",
    "* are the homes good quality, newer, renovated if older. Are there differences between zip codes.\n",
    "* for tax purposes what percentage of homes are being renovated? What types of homes are being renovated? "
   ]
  },
  {
   "cell_type": "code",
   "execution_count": null,
   "metadata": {},
   "outputs": [],
   "source": []
  },
  {
   "cell_type": "markdown",
   "metadata": {},
   "source": [
    "## General Questions\n",
    "### Are any homes listed twice in the dataset?\n",
    "I think only home sales in 2014 and 2015 are included so there might not be many homes that sold twice in that time frame.\n",
    "\n",
    "### "
   ]
  },
  {
   "cell_type": "markdown",
   "metadata": {},
   "source": [
    "## What percentage of homes in the county are renovated? Consider breaking down by zipcode, by year built, by homes with waterfront and/or nice views."
   ]
  },
  {
   "cell_type": "code",
   "execution_count": null,
   "metadata": {},
   "outputs": [],
   "source": []
  },
  {
   "cell_type": "markdown",
   "metadata": {},
   "source": [
    "## Group by zipcode and look at the differences in 1)sales price 2)sqft_living 3) sqft_lot 4)yr_built  5)anything else interesting."
   ]
  },
  {
   "cell_type": "code",
   "execution_count": null,
   "metadata": {},
   "outputs": [],
   "source": []
  },
  {
   "cell_type": "code",
   "execution_count": null,
   "metadata": {},
   "outputs": [],
   "source": []
  },
  {
   "cell_type": "markdown",
   "metadata": {},
   "source": [
    "## Exploring home living area and lot compared to neighbors \n"
   ]
  },
  {
   "cell_type": "code",
   "execution_count": 10,
   "metadata": {
    "tags": []
   },
   "outputs": [
    {
     "output_type": "stream",
     "name": "stdout",
     "text": "--- df shape---\n(21597, 27)\n--- no difference between home/lot and neighbors ---\n(2563, 27)\n(4474, 27)\n---- home/lot LARGER than neighbors---\n(9838, 27)\n(8593, 27)\n---- home/lot SMALLER than neighbors---\n(9196, 27)\n(8530, 27)\n"
    }
   ],
   "source": [
    "print(\"--- df shape---\")\n",
    "print(df.shape)\n",
    "print(\"--- no difference between home/lot and neighbors ---\")\n",
    "print(df[df['sqft_living15_diff'] == 0].shape)\n",
    "print(df[df['sqft_lot15_diff'] == 0].shape)\n",
    "print(\"---- home/lot LARGER than neighbors---\")\n",
    "print(df[df['sqft_living15_diff'] > 0].shape)\n",
    "print(df[df['sqft_lot15_diff']>0].shape)\n",
    "print(\"---- home/lot SMALLER than neighbors---\")\n",
    "print(df[df['sqft_living15_diff'] < 0].shape)\n",
    "print(df[df['sqft_lot15_diff']<0].shape)"
   ]
  },
  {
   "cell_type": "code",
   "execution_count": null,
   "metadata": {},
   "outputs": [],
   "source": [
    "\n",
    "print(\"----renovated status UNK, N, Y---\")\n",
    "print(df[df['renovated_status'] == 'UNK'].shape)\n",
    "print(df[df['renovated_status'] == 'N'].shape)\n",
    "print(df[df['renovated_status'] == 'Y'].shape)\n",
    "print('--- different sqft_living15 and UNK renovated_status------')\n",
    "print(df[(df['sqft_living15_different'] == 'Y') & (df['renovated_status']=='UNK')].shape)"
   ]
  },
  {
   "cell_type": "code",
   "execution_count": null,
   "metadata": {},
   "outputs": [],
   "source": []
  }
 ]
}