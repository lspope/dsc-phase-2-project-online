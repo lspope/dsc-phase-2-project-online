{
 "metadata": {
  "language_info": {
   "codemirror_mode": {
    "name": "ipython",
    "version": 3
   },
   "file_extension": ".py",
   "mimetype": "text/x-python",
   "name": "python",
   "nbconvert_exporter": "python",
   "pygments_lexer": "ipython3",
   "version": "3.6.9-final"
  },
  "orig_nbformat": 2,
  "kernelspec": {
   "name": "Python 3.6.9 64-bit ('flatiron': conda)",
   "display_name": "Python 3.6.9 64-bit ('flatiron': conda)",
   "metadata": {
    "interpreter": {
     "hash": "4535bfad872b0023e1fa85bd7b3c83a64ea39ab51ed0133218ea0a816c02d554"
    }
   }
  }
 },
 "nbformat": 4,
 "nbformat_minor": 2,
 "cells": [
  {
   "cell_type": "markdown",
   "metadata": {},
   "source": [
    "## todo:\n",
    "* sqft_above    - Square footage of living area above ground. Check if this is  sqft_living - sqft_basement?)"
   ]
  },
  {
   "cell_type": "markdown",
   "metadata": {},
   "source": [
    "# todos\n",
    "* any todos go here"
   ]
  },
  {
   "cell_type": "markdown",
   "metadata": {},
   "source": [
    "# General EDA\n",
    "EDA playround to start to find interesting things."
   ]
  },
  {
   "cell_type": "code",
   "execution_count": 92,
   "metadata": {},
   "outputs": [],
   "source": [
    "# Import the required libraries\n",
    "import pandas as pd\n",
    "import numpy as np\n",
    "\n",
    "# set up pandas to display floats in a more human friendly way\n",
    "pd.options.display.float_format = '{:,.2f}'.format"
   ]
  },
  {
   "cell_type": "code",
   "execution_count": 93,
   "metadata": {
    "tags": []
   },
   "outputs": [
    {
     "output_type": "stream",
     "name": "stdout",
     "text": "(21420, 27)\n"
    },
    {
     "output_type": "execute_result",
     "data": {
      "text/plain": "21420"
     },
     "metadata": {},
     "execution_count": 93
    }
   ],
   "source": [
    "df = pd.read_csv('../data/proc_kc_house_data.csv')\n",
    "print(df.shape)\n",
    "df.head(10)\n",
    "len(df['id'].unique())"
   ]
  },
  {
   "cell_type": "markdown",
   "metadata": {},
   "source": [
    "# Processed Data Column Descriptions\n",
    "\n",
    "* id            - Unique identifier for house\n",
    "* date          - Date house was sold\n",
    "* price         - Sales price of home - __this is the prediction target__\n",
    "* bedrooms      - Number of bedrooms\n",
    "* bathrooms     - Number of bathrooms\n",
    "* sqft_living   - Square footage of living area\n",
    "* sqft_lot      - Square footage of  lot\n",
    "* floors        - # floors (levels) in house\n",
    "* waterfront    - Number from 0 to 1 reflecting if house is categorized as a waterfront property - Categorical\n",
    "* view          - Number from 0 to 4 reflecting quality of sceanic view - Categorical\n",
    "* condition     - Number from 1 to 5 reflecting the overall condition of the property - Categorical\n",
    "* grade         - Number from 1 to 13 refelecting the overall grade given to the property, based on King County grading system\n",
    "* sqft_above    - Square footage of living area above ground/ (is this sqft_living - sqft_basement?) from basement\n",
    "* sqft_basement - Square footage of the basement\n",
    "* yr_built      - Year house was built\n",
    "* yr_renovated  - Year house was renovated\n",
    "* zipcode       - zip code\n",
    "* lat           - Latitude coordinate\n",
    "* long          - Longitude coordinate\n",
    "* sqft_living15 - Average square footage of living area of the nearest 15 neighbors \n",
    "* sqft_lot15    - Average square footage of the  lots of the nearest 15 neighbors\n",
    "* date_month    - ADDED month of sale date\n",
    "* date_day      - ADDED day of sale date\n",
    "* date_year     - ADDED year of sale date\n",
    "* renovated_status      - ADDED Value Y/N/UNK refelecting the renovated status\n",
    "* sqft_living15_diff    - ADDED difference between home living area and nearest neighbors average living area\n",
    "* sqft_lot15_diff       - ADDED difference between home lot and nearest neighbors average lot  \n",
    "    * Thanks to Data Science cohort members past and present for Data Column Descriptions"
   ]
  },
  {
   "cell_type": "markdown",
   "metadata": {},
   "source": [
    "# Do basic data investigation\n",
    "* Describe the data - mean, median, min, max\n",
    "* Look for outliers"
   ]
  },
  {
   "cell_type": "markdown",
   "metadata": {},
   "source": [
    "## General EDA Questions\n",
    "### Are there any outliers in the dataset?\n",
    "\n",
    "\n",
    "### "
   ]
  },
  {
   "cell_type": "code",
   "execution_count": 94,
   "metadata": {},
   "outputs": [
    {
     "output_type": "execute_result",
     "data": {
      "text/plain": "                    id        price  bedrooms  bathrooms  sqft_living  \\\ncount        21,420.00    21,420.00 21,420.00  21,420.00    21,420.00   \nmean  4,580,939,869.16   541,861.43      3.37       2.12     2,083.13   \nstd   2,876,761,172.45   367,556.94      0.93       0.77       918.81   \nmin       1,000,102.00    78,000.00      1.00       0.50       370.00   \n25%   2,123,537,386.75   324,950.00      3.00       1.75     1,430.00   \n50%   3,904,921,185.00   450,550.00      3.00       2.25     1,920.00   \n75%   7,308,900,186.25   645,000.00      4.00       2.50     2,550.00   \nmax   9,900,000,190.00 7,700,000.00     33.00       8.00    13,540.00   \n\n          sqft_lot    floors  waterfront      view  condition  ...   zipcode  \\\ncount    21,420.00 21,420.00   21,420.00 21,420.00  21,420.00  ... 21,420.00   \nmean     15,128.04      1.50        0.01      0.23       3.41  ... 98,077.87   \nstd      41,530.80      0.54        0.08      0.77       0.65  ...     53.48   \nmin         520.00      1.00        0.00      0.00       1.00  ... 98,001.00   \n25%       5,040.00      1.00        0.00      0.00       3.00  ... 98,033.00   \n50%       7,614.00      1.50        0.00      0.00       3.00  ... 98,065.00   \n75%      10,690.50      2.00        0.00      0.00       4.00  ... 98,117.00   \nmax   1,651,359.00      3.50        1.00      4.00       5.00  ... 98,199.00   \n\n            lat      long  sqft_living15  sqft_lot15  date_month  date_day  \\\ncount 21,420.00 21,420.00      21,420.00   21,420.00   21,420.00 21,420.00   \nmean      47.56   -122.21       1,988.38   12,775.72        6.56     15.69   \nstd        0.14      0.14         685.54   27,345.62        3.12      8.64   \nmin       47.16   -122.52         399.00      651.00        1.00      1.00   \n25%       47.47   -122.33       1,490.00    5,100.00        4.00      8.00   \n50%       47.57   -122.23       1,840.00    7,620.00        6.00     16.00   \n75%       47.68   -122.12       2,370.00   10,086.25        9.00     23.00   \nmax       47.78   -121.31       6,210.00  871,200.00       12.00     31.00   \n\n       date_year  sqft_living15_diff  sqft_lot15_diff  \ncount  21,420.00           21,420.00        21,420.00  \nmean    2,014.33               94.75         2,352.32  \nstd         0.47              601.30        29,022.93  \nmin     2,014.00           -2,310.00      -326,879.00  \n25%     2,014.00             -220.00          -420.25  \n50%     2,014.00                0.00             0.00  \n75%     2,015.00              310.00           680.00  \nmax     2,015.00            8,690.00     1,225,778.00  \n\n[8 rows x 25 columns]",
      "text/html": "<div>\n<style scoped>\n    .dataframe tbody tr th:only-of-type {\n        vertical-align: middle;\n    }\n\n    .dataframe tbody tr th {\n        vertical-align: top;\n    }\n\n    .dataframe thead th {\n        text-align: right;\n    }\n</style>\n<table border=\"1\" class=\"dataframe\">\n  <thead>\n    <tr style=\"text-align: right;\">\n      <th></th>\n      <th>id</th>\n      <th>price</th>\n      <th>bedrooms</th>\n      <th>bathrooms</th>\n      <th>sqft_living</th>\n      <th>sqft_lot</th>\n      <th>floors</th>\n      <th>waterfront</th>\n      <th>view</th>\n      <th>condition</th>\n      <th>...</th>\n      <th>zipcode</th>\n      <th>lat</th>\n      <th>long</th>\n      <th>sqft_living15</th>\n      <th>sqft_lot15</th>\n      <th>date_month</th>\n      <th>date_day</th>\n      <th>date_year</th>\n      <th>sqft_living15_diff</th>\n      <th>sqft_lot15_diff</th>\n    </tr>\n  </thead>\n  <tbody>\n    <tr>\n      <th>count</th>\n      <td>21,420.00</td>\n      <td>21,420.00</td>\n      <td>21,420.00</td>\n      <td>21,420.00</td>\n      <td>21,420.00</td>\n      <td>21,420.00</td>\n      <td>21,420.00</td>\n      <td>21,420.00</td>\n      <td>21,420.00</td>\n      <td>21,420.00</td>\n      <td>...</td>\n      <td>21,420.00</td>\n      <td>21,420.00</td>\n      <td>21,420.00</td>\n      <td>21,420.00</td>\n      <td>21,420.00</td>\n      <td>21,420.00</td>\n      <td>21,420.00</td>\n      <td>21,420.00</td>\n      <td>21,420.00</td>\n      <td>21,420.00</td>\n    </tr>\n    <tr>\n      <th>mean</th>\n      <td>4,580,939,869.16</td>\n      <td>541,861.43</td>\n      <td>3.37</td>\n      <td>2.12</td>\n      <td>2,083.13</td>\n      <td>15,128.04</td>\n      <td>1.50</td>\n      <td>0.01</td>\n      <td>0.23</td>\n      <td>3.41</td>\n      <td>...</td>\n      <td>98,077.87</td>\n      <td>47.56</td>\n      <td>-122.21</td>\n      <td>1,988.38</td>\n      <td>12,775.72</td>\n      <td>6.56</td>\n      <td>15.69</td>\n      <td>2,014.33</td>\n      <td>94.75</td>\n      <td>2,352.32</td>\n    </tr>\n    <tr>\n      <th>std</th>\n      <td>2,876,761,172.45</td>\n      <td>367,556.94</td>\n      <td>0.93</td>\n      <td>0.77</td>\n      <td>918.81</td>\n      <td>41,530.80</td>\n      <td>0.54</td>\n      <td>0.08</td>\n      <td>0.77</td>\n      <td>0.65</td>\n      <td>...</td>\n      <td>53.48</td>\n      <td>0.14</td>\n      <td>0.14</td>\n      <td>685.54</td>\n      <td>27,345.62</td>\n      <td>3.12</td>\n      <td>8.64</td>\n      <td>0.47</td>\n      <td>601.30</td>\n      <td>29,022.93</td>\n    </tr>\n    <tr>\n      <th>min</th>\n      <td>1,000,102.00</td>\n      <td>78,000.00</td>\n      <td>1.00</td>\n      <td>0.50</td>\n      <td>370.00</td>\n      <td>520.00</td>\n      <td>1.00</td>\n      <td>0.00</td>\n      <td>0.00</td>\n      <td>1.00</td>\n      <td>...</td>\n      <td>98,001.00</td>\n      <td>47.16</td>\n      <td>-122.52</td>\n      <td>399.00</td>\n      <td>651.00</td>\n      <td>1.00</td>\n      <td>1.00</td>\n      <td>2,014.00</td>\n      <td>-2,310.00</td>\n      <td>-326,879.00</td>\n    </tr>\n    <tr>\n      <th>25%</th>\n      <td>2,123,537,386.75</td>\n      <td>324,950.00</td>\n      <td>3.00</td>\n      <td>1.75</td>\n      <td>1,430.00</td>\n      <td>5,040.00</td>\n      <td>1.00</td>\n      <td>0.00</td>\n      <td>0.00</td>\n      <td>3.00</td>\n      <td>...</td>\n      <td>98,033.00</td>\n      <td>47.47</td>\n      <td>-122.33</td>\n      <td>1,490.00</td>\n      <td>5,100.00</td>\n      <td>4.00</td>\n      <td>8.00</td>\n      <td>2,014.00</td>\n      <td>-220.00</td>\n      <td>-420.25</td>\n    </tr>\n    <tr>\n      <th>50%</th>\n      <td>3,904,921,185.00</td>\n      <td>450,550.00</td>\n      <td>3.00</td>\n      <td>2.25</td>\n      <td>1,920.00</td>\n      <td>7,614.00</td>\n      <td>1.50</td>\n      <td>0.00</td>\n      <td>0.00</td>\n      <td>3.00</td>\n      <td>...</td>\n      <td>98,065.00</td>\n      <td>47.57</td>\n      <td>-122.23</td>\n      <td>1,840.00</td>\n      <td>7,620.00</td>\n      <td>6.00</td>\n      <td>16.00</td>\n      <td>2,014.00</td>\n      <td>0.00</td>\n      <td>0.00</td>\n    </tr>\n    <tr>\n      <th>75%</th>\n      <td>7,308,900,186.25</td>\n      <td>645,000.00</td>\n      <td>4.00</td>\n      <td>2.50</td>\n      <td>2,550.00</td>\n      <td>10,690.50</td>\n      <td>2.00</td>\n      <td>0.00</td>\n      <td>0.00</td>\n      <td>4.00</td>\n      <td>...</td>\n      <td>98,117.00</td>\n      <td>47.68</td>\n      <td>-122.12</td>\n      <td>2,370.00</td>\n      <td>10,086.25</td>\n      <td>9.00</td>\n      <td>23.00</td>\n      <td>2,015.00</td>\n      <td>310.00</td>\n      <td>680.00</td>\n    </tr>\n    <tr>\n      <th>max</th>\n      <td>9,900,000,190.00</td>\n      <td>7,700,000.00</td>\n      <td>33.00</td>\n      <td>8.00</td>\n      <td>13,540.00</td>\n      <td>1,651,359.00</td>\n      <td>3.50</td>\n      <td>1.00</td>\n      <td>4.00</td>\n      <td>5.00</td>\n      <td>...</td>\n      <td>98,199.00</td>\n      <td>47.78</td>\n      <td>-121.31</td>\n      <td>6,210.00</td>\n      <td>871,200.00</td>\n      <td>12.00</td>\n      <td>31.00</td>\n      <td>2,015.00</td>\n      <td>8,690.00</td>\n      <td>1,225,778.00</td>\n    </tr>\n  </tbody>\n</table>\n<p>8 rows × 25 columns</p>\n</div>"
     },
     "metadata": {},
     "execution_count": 94
    }
   ],
   "source": [
    "df.describe()"
   ]
  },
  {
   "cell_type": "code",
   "execution_count": 95,
   "metadata": {
    "tags": []
   },
   "outputs": [
    {
     "output_type": "stream",
     "name": "stdout",
     "text": "---- price -----\ncount      21,420.00\nmean      541,861.43\nstd       367,556.94\nmin        78,000.00\n25%       324,950.00\n50%       450,550.00\n75%       645,000.00\nmax     7,700,000.00\nName: price, dtype: float64\n---- bedrooms -----\ncount   21,420.00\nmean         3.37\nstd          0.93\nmin          1.00\n25%          3.00\n50%          3.00\n75%          4.00\nmax         33.00\nName: bedrooms, dtype: float64\n---- sqft_living -----\ncount   21,420.00\nmean     2,083.13\nstd        918.81\nmin        370.00\n25%      1,430.00\n50%      1,920.00\n75%      2,550.00\nmax     13,540.00\nName: sqft_living, dtype: float64\n---- sqft_above -----\ncount   21,420.00\nmean     1,791.17\nstd        828.69\nmin        370.00\n25%      1,200.00\n50%      1,560.00\n75%      2,220.00\nmax      9,410.00\nName: sqft_above, dtype: float64\n---- sqft_basement -----\ncount   21,420.00\nmean       285.94\nstd        440.01\nmin          0.00\n25%          0.00\n50%          0.00\n75%        550.00\nmax      4,820.00\nName: sqft_basement, dtype: float64\n"
    }
   ],
   "source": [
    "print('---- price -----')\n",
    "print(df['price'].describe())        # that max is really huge! look for outliers\n",
    "print('---- bedrooms -----')\n",
    "print(df['bedrooms'].describe())        # that max is really huge! look for outliers\n",
    "print('---- sqft_living -----')\n",
    "print(df['sqft_living'].describe())     # that max is really huge! Look for outliers\n",
    "print('---- sqft_above -----')\n",
    "print(df['sqft_above'].describe())      # that max is really huge! Look for outliers\n",
    "print('---- sqft_basement -----')\n",
    "print(df['sqft_basement'].describe())   # that max is really huge! Look for outliers"
   ]
  },
  {
   "cell_type": "code",
   "execution_count": 96,
   "metadata": {
    "tags": []
   },
   "outputs": [
    {
     "output_type": "stream",
     "name": "stdout",
     "text": "count   21,420.00\nmean     1,988.38\nstd        685.54\nmin        399.00\n25%      1,490.00\n50%      1,840.00\n75%      2,370.00\nmax      6,210.00\nName: sqft_living15, dtype: float64\ncount    21,420.00\nmean     12,775.72\nstd      27,345.62\nmin         651.00\n25%       5,100.00\n50%       7,620.00\n75%      10,086.25\nmax     871,200.00\nName: sqft_lot15, dtype: float64\ncount   21,420.00\nmean        94.75\nstd        601.30\nmin     -2,310.00\n25%       -220.00\n50%          0.00\n75%        310.00\nmax      8,690.00\nName: sqft_living15_diff, dtype: float64\ncount      21,420.00\nmean        2,352.32\nstd        29,022.93\nmin      -326,879.00\n25%          -420.25\n50%             0.00\n75%           680.00\nmax     1,225,778.00\nName: sqft_lot15_diff, dtype: float64\n"
    }
   ],
   "source": [
    "print(df['sqft_living15'].describe())       # that max is really huge! Look for outliers\n",
    "print(df['sqft_lot15'].describe())          # that max is MASSIVELY huge! Look for outliers\n",
    "print(df['sqft_living15_diff'].describe())   # that max is really huge! Look for outliers\n",
    "print(df['sqft_lot15_diff'].describe())      # that max is MASSIVELY huge! Look for outliers"
   ]
  },
  {
   "cell_type": "code",
   "execution_count": 97,
   "metadata": {
    "tags": []
   },
   "outputs": [
    {
     "output_type": "stream",
     "name": "stdout",
     "text": "count   21,420.00\nmean         2.12\nstd          0.77\nmin          0.50\n25%          1.75\n50%          2.25\n75%          2.50\nmax          8.00\nName: bathrooms, dtype: float64\ncount   21,420.00\nmean         1.50\nstd          0.54\nmin          1.00\n25%          1.00\n50%          1.50\n75%          2.00\nmax          3.50\nName: floors, dtype: float64\n"
    }
   ],
   "source": [
    "print(df['bathrooms'].describe())    # that max seems large! look for outliers.\n",
    "print(df['floors'].describe())       # that max seems large! look for outliers."
   ]
  },
  {
   "cell_type": "code",
   "execution_count": null,
   "metadata": {},
   "outputs": [],
   "source": []
  },
  {
   "cell_type": "markdown",
   "metadata": {},
   "source": [
    "# Framing questions from the POV of County government officals.  \n",
    "\n",
    "Residential property tax assessors, county/city planning that want to learn about economic factors/data related to Residential property. Here are examples;\n",
    "* Does my zip code price out residents? Ddoes the city/county need to work on making homes more affordable...are they already affordable?\n",
    "* are lots too small/overcrowding/stressing infrastucture?  Are there differences in lot size between zip codes?\n",
    "* are the homes good quality, newer, renovated if older. Are there differences between zip codes.\n",
    "* for tax purposes what percentage of homes are being renovated? What types of homes are being renovated? "
   ]
  },
  {
   "cell_type": "code",
   "execution_count": null,
   "metadata": {},
   "outputs": [],
   "source": []
  },
  {
   "cell_type": "markdown",
   "metadata": {},
   "source": [
    "## Group by zipcode and look at the differences in 1)sales price 2)sqft_living 3) sqft_lot 4)yr_built  5)anything else interesting."
   ]
  },
  {
   "cell_type": "code",
   "execution_count": 117,
   "metadata": {},
   "outputs": [
    {
     "output_type": "execute_result",
     "data": {
      "text/plain": "zipcode\n98001    358\n98002    197\n98003    276\n98004    315\n98005    168\n        ... \n98177    254\n98178    258\n98188    135\n98198    275\n98199    316\nName: id, Length: 70, dtype: int64"
     },
     "metadata": {},
     "execution_count": 117
    }
   ],
   "source": [
    "df.groupby('zipcode')['id'].count()"
   ]
  },
  {
   "cell_type": "code",
   "execution_count": 116,
   "metadata": {},
   "outputs": [
    {
     "output_type": "execute_result",
     "data": {
      "text/plain": "zipcode  date_year\n98001    2014         242\n         2015         116\n98002    2014         130\n         2015          67\n98003    2014         180\n                     ... \n98188    2015          53\n98198    2014         177\n         2015          98\n98199    2014         213\n         2015         103\nName: id, Length: 140, dtype: int64"
     },
     "metadata": {},
     "execution_count": 116
    }
   ],
   "source": [
    "df.groupby(['zipcode', 'date_year'])['id'].count()"
   ]
  },
  {
   "cell_type": "code",
   "execution_count": 106,
   "metadata": {},
   "outputs": [
    {
     "output_type": "execute_result",
     "data": {
      "text/plain": "zipcode  date_year\n98001    2014        276,765.96\n         2015        293,749.01\n98002    2014        234,703.72\n         2015        234,418.51\n98003    2014        294,879.34\n                        ...    \n98188    2015        303,355.19\n98198    2014        313,965.66\n         2015        289,613.93\n98199    2014        791,801.00\n         2015        795,293.35\nName: price, Length: 140, dtype: float64"
     },
     "metadata": {},
     "execution_count": 106
    }
   ],
   "source": [
    "df.groupby(['zipcode', 'date_year'])['price'].mean()"
   ]
  },
  {
   "cell_type": "code",
   "execution_count": 107,
   "metadata": {},
   "outputs": [
    {
     "output_type": "execute_result",
     "data": {
      "text/plain": "zipcode  date_year\n98001    2014        255,000.00\n         2015        277,500.00\n98002    2014        234,500.00\n         2015        235,000.00\n98003    2014        263,750.00\n                        ...    \n98188    2015        265,000.00\n98198    2014        265,000.00\n         2015        272,475.00\n98199    2014        696,000.00\n         2015        680,000.00\nName: price, Length: 140, dtype: float64"
     },
     "metadata": {},
     "execution_count": 107
    }
   ],
   "source": [
    "df.groupby(['zipcode', 'date_year'])['price'].median()"
   ]
  },
  {
   "cell_type": "code",
   "execution_count": 108,
   "metadata": {},
   "outputs": [
    {
     "output_type": "execute_result",
     "data": {
      "text/plain": "zipcode  date_year\n98001    2014        100,000.00\n         2015        110,000.00\n98002    2014        112,000.00\n         2015         95,000.00\n98003    2014        128,000.00\n                        ...    \n98188    2015        110,000.00\n98198    2014         95,000.00\n         2015         95,000.00\n98199    2014        330,000.00\n         2015        323,000.00\nName: price, Length: 140, dtype: float64"
     },
     "metadata": {},
     "execution_count": 108
    }
   ],
   "source": [
    "df.groupby(['zipcode', 'date_year'])['price'].min()"
   ]
  },
  {
   "cell_type": "code",
   "execution_count": 109,
   "metadata": {},
   "outputs": [
    {
     "output_type": "execute_result",
     "data": {
      "text/plain": "zipcode  date_year\n98001    2014          850,000.00\n         2015          639,900.00\n98002    2014          367,500.00\n         2015          389,000.00\n98003    2014          950,000.00\n                         ...     \n98188    2015          707,000.00\n98198    2014        1,350,000.00\n         2015          770,000.00\n98199    2014        3,200,000.00\n         2015        2,800,000.00\nName: price, Length: 140, dtype: float64"
     },
     "metadata": {},
     "execution_count": 109
    }
   ],
   "source": [
    "df.groupby(['zipcode', 'date_year'])['price'].max()"
   ]
  },
  {
   "cell_type": "markdown",
   "metadata": {},
   "source": [
    "## What percentage of homes in the county are renovated? Consider breaking down by zipcode, by year built, by homes with waterfront and/or nice views."
   ]
  },
  {
   "cell_type": "code",
   "execution_count": 115,
   "metadata": {},
   "outputs": [
    {
     "output_type": "execute_result",
     "data": {
      "text/plain": "zipcode  date_year\n98001    2014         242\n         2015         116\n98002    2014         130\n         2015          67\n98003    2014         180\n                     ... \n98188    2015          53\n98198    2014         177\n         2015          98\n98199    2014         213\n         2015         103\nName: id, Length: 140, dtype: int64"
     },
     "metadata": {},
     "execution_count": 115
    }
   ],
   "source": [
    "df.groupby(['zipcode', 'date_year'])['id'].count()"
   ]
  },
  {
   "cell_type": "code",
   "execution_count": 113,
   "metadata": {},
   "outputs": [
    {
     "output_type": "execute_result",
     "data": {
      "text/plain": "zipcode  date_year\n98001    2014         242\n         2015         116\n98002    2014         130\n         2015          67\n98003    2014         180\n                     ... \n98188    2015          53\n98198    2014         177\n         2015          98\n98199    2014         213\n         2015         103\nName: waterfront, Length: 140, dtype: int64"
     },
     "metadata": {},
     "execution_count": 113
    }
   ],
   "source": [
    "df.groupby(['zipcode', 'date_year'])['waterfront'].count()"
   ]
  },
  {
   "cell_type": "code",
   "execution_count": 114,
   "metadata": {},
   "outputs": [
    {
     "output_type": "execute_result",
     "data": {
      "text/plain": "zipcode  date_year\n98001    2014         242\n         2015         116\n98002    2014         130\n         2015          67\n98003    2014         180\n                     ... \n98188    2015          53\n98198    2014         177\n         2015          98\n98199    2014         213\n         2015         103\nName: view, Length: 140, dtype: int64"
     },
     "metadata": {},
     "execution_count": 114
    }
   ],
   "source": [
    "df.groupby(['zipcode', 'date_year'])['view'].count()"
   ]
  },
  {
   "cell_type": "code",
   "execution_count": null,
   "metadata": {},
   "outputs": [],
   "source": [
    "df.groupby(['zipcode', 'date_year'])[''].count()"
   ]
  },
  {
   "cell_type": "markdown",
   "metadata": {},
   "source": [
    "## Exploring home living area and lot compared to neighbors \n"
   ]
  },
  {
   "cell_type": "code",
   "execution_count": 99,
   "metadata": {
    "tags": []
   },
   "outputs": [
    {
     "output_type": "stream",
     "name": "stdout",
     "text": "--- df shape---\n(21420, 27)\n--- no difference between home/lot and neighbors ---\n(2541, 27)\n(4436, 27)\n---- home/lot LARGER than neighbors---\n(9772, 27)\n(8518, 27)\n---- home/lot SMALLER than neighbors---\n(9107, 27)\n(8466, 27)\n"
    }
   ],
   "source": [
    "print(\"--- df shape---\")\n",
    "print(df.shape)\n",
    "print(\"--- no difference between home/lot and neighbors ---\")\n",
    "print(df[df['sqft_living15_diff'] == 0].shape)\n",
    "print(df[df['sqft_lot15_diff'] == 0].shape)\n",
    "print(\"---- home/lot LARGER than neighbors---\")\n",
    "print(df[df['sqft_living15_diff'] > 0].shape)\n",
    "print(df[df['sqft_lot15_diff']>0].shape)\n",
    "print(\"---- home/lot SMALLER than neighbors---\")\n",
    "print(df[df['sqft_living15_diff'] < 0].shape)\n",
    "print(df[df['sqft_lot15_diff']<0].shape)"
   ]
  },
  {
   "cell_type": "code",
   "execution_count": 100,
   "metadata": {
    "tags": []
   },
   "outputs": [
    {
     "output_type": "stream",
     "name": "stdout",
     "text": "----renovated status UNK, N, Y---\n(17099, 27)\n(3581, 27)\n(740, 27)\n"
    }
   ],
   "source": [
    "\n",
    "print(\"----renovated status UNK, N, Y---\")\n",
    "print(df[df['renovated_status'] == 'UNK'].shape)\n",
    "print(df[df['renovated_status'] == 'N'].shape)\n",
    "print(df[df['renovated_status'] == 'Y'].shape)\n"
   ]
  },
  {
   "cell_type": "code",
   "execution_count": null,
   "metadata": {},
   "outputs": [],
   "source": []
  }
 ]
}